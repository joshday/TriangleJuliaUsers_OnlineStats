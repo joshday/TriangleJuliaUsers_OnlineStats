{
 "cells": [
  {
   "cell_type": "markdown",
   "metadata": {
    "slideshow": {
     "slide_type": "slide"
    }
   },
   "source": [
    "# OnlineStats.jl\n",
    "\n",
    "- Josh Day, NC State Department of Statistics\n",
    "- https://github.com/joshday/\n",
    "- jtday2@ncsu.edu\n",
    "- December 14, 2015"
   ]
  },
  {
   "cell_type": "markdown",
   "metadata": {
    "slideshow": {
     "slide_type": "slide"
    }
   },
   "source": [
    "### Things to Note\n",
    "\n",
    "- I am a statistician\n",
    "- I am a Julia convert from R\n",
    "- This talk will focus on OnlineStats, but I'll also be demonstrating a few things from Plots.jl (@tbreloff) and AverageShiftedHistograms.jl (@joshday)\n",
    "- Some of the syntax I'm using is not yet available in OnlineStats"
   ]
  },
  {
   "cell_type": "markdown",
   "metadata": {
    "slideshow": {
     "slide_type": "slide"
    }
   },
   "source": [
    "### Outline\n",
    "\n",
    "- Introduction/Motivation\n",
    "- Why Julia?\n",
    "- What Can [OnlineStats.jl](https://github.com/joshday/OnlineStats.jl) do?\n",
    "    - Weighting System\n",
    "    - Trace Plots\n",
    "    - Distribution Fitting\n",
    "    - Density Estimation ([AverageShiftedHistograms.jl](https://github.com/joshday/AverageShiftedHistograms.jl))\n",
    "    - Predictive Models with Regularization"
   ]
  },
  {
   "cell_type": "markdown",
   "metadata": {
    "slideshow": {
     "slide_type": "slide"
    }
   },
   "source": [
    "### Introduction and Motivation\n",
    "\n",
    "- OnlineStats.jl is the implementation of my research into online algorithms for statistics.\n",
    "- Observations are processed one by one and all algorithms use O(1) memory.\n",
    "- Why do we need online algorithms for statistics?"
   ]
  },
  {
   "cell_type": "markdown",
   "metadata": {
    "slideshow": {
     "slide_type": "slide"
    }
   },
   "source": [
    "![](http://www.ibmbigdatahub.com/sites/default/files/infographic_file/4-Vs-of-big-data.jpg)"
   ]
  },
  {
   "cell_type": "markdown",
   "metadata": {
    "slideshow": {
     "slide_type": "slide"
    }
   },
   "source": [
    "- Statistical methods in the realms of Volume and Velocity are very limited.  \n",
    "- Adapting methods to these scenarios is nontrivial"
   ]
  },
  {
   "cell_type": "markdown",
   "metadata": {
    "slideshow": {
     "slide_type": "slide"
    }
   },
   "source": [
    "# Why Julia? (vs. R + RCpp)\n",
    "\n",
    "- Speed\n",
    "- Types \n",
    "    - multiple dispatch and abstraction\n",
    "- Developer tools\n",
    "    - `@time`, the greatest thing\n",
    "- Clarity\n",
    "- The Future"
   ]
  },
  {
   "cell_type": "markdown",
   "metadata": {
    "slideshow": {
     "slide_type": "slide"
    }
   },
   "source": [
    "# What Can OnlineStats.jl Do?\n",
    "\n",
    "- http://joshday.github.io/OnlineStats.jl/#what-onlinestats-can-do\n",
    "- OnlineStats aims to cover online algorithms for each major statistical method, from summary statistics to penalized regression.\n",
    "- Some estimates cannot be exact, but many OnlineStats have analytical solutions\n",
    "  - logistic regression (approximate)\n",
    "  - linear regression (analytical)"
   ]
  },
  {
   "cell_type": "code",
   "execution_count": 15,
   "metadata": {
    "collapsed": false,
    "slideshow": {
     "slide_type": "slide"
    }
   },
   "outputs": [],
   "source": [
    "using OnlineStats\n",
    "y = randn(10_000_000);"
   ]
  },
  {
   "cell_type": "code",
   "execution_count": 2,
   "metadata": {
    "collapsed": false,
    "slideshow": {
     "slide_type": "-"
    }
   },
   "outputs": [],
   "source": [
    "o = Mean()\n",
    "fit!(o, y)\n",
    "\n",
    "# Mean(y)"
   ]
  },
  {
   "cell_type": "code",
   "execution_count": 3,
   "metadata": {
    "collapsed": false,
    "slideshow": {
     "slide_type": "-"
    }
   },
   "outputs": [
    {
     "data": {
      "text/plain": [
       "-7.995991022080595e-18"
      ]
     },
     "execution_count": 3,
     "metadata": {},
     "output_type": "execute_result"
    }
   ],
   "source": [
    "# Does it work?\n",
    "mean(o) - mean(y)"
   ]
  },
  {
   "cell_type": "code",
   "execution_count": 4,
   "metadata": {
    "collapsed": false,
    "slideshow": {
     "slide_type": "slide"
    }
   },
   "outputs": [
    {
     "name": "stdout",
     "output_type": "stream",
     "text": [
      "[Plots.jl] Initializing backend: gadfly"
     ]
    }
   ],
   "source": [
    "using Plots; gadfly()\n",
    "\n",
    "o = Variance()\n",
    "\n",
    "p = plot([0.], [0. 0.], lab = [\"mean\" \"variance\"])\n",
    "anim = Animation()\n",
    "for i in 1:100\n",
    "    fit!(o, randn(10))\n",
    "    push!(p, nobs(o), [mean(o), var(o)]) \n",
    "    frame(anim)\n",
    "end"
   ]
  },
  {
   "cell_type": "code",
   "execution_count": 5,
   "metadata": {
    "collapsed": false,
    "slideshow": {
     "slide_type": "slide"
    }
   },
   "outputs": [
    {
     "name": "stdout",
     "output_type": "stream",
     "text": [
      "\n"
     ]
    },
    {
     "name": "stderr",
     "output_type": "stream",
     "text": [
      "INFO: Saved animation to /Users/joshday/github/TriangleJuliaUsers_OnlineStats/TracePlot.gif\n"
     ]
    },
    {
     "data": {
      "text/html": [
       "<img src=\"TracePlot.gif?0.7522945674402162>\" />"
      ],
      "text/plain": [
       "Plots.AnimatedGif(\"/Users/joshday/github/TriangleJuliaUsers_OnlineStats/TracePlot.gif\")"
      ]
     },
     "execution_count": 5,
     "metadata": {},
     "output_type": "execute_result"
    }
   ],
   "source": [
    "# Do mean and variance go to 0 and 1?\n",
    "gif(anim, \"TracePlot.gif\")"
   ]
  },
  {
   "cell_type": "markdown",
   "metadata": {
    "collapsed": true,
    "slideshow": {
     "slide_type": "slide"
    }
   },
   "source": [
    "### Weight Types\n",
    "\n",
    "OnlineStats has multiple weighting schemes built into the backend of every type.  This means new information can be weighted differently from past information.  Users can add their own types or use those built into OnlineStats:\n",
    "\n",
    "- `EqualWeight`\n",
    "- `ExponentialWeight`\n",
    "- `LearningRate`"
   ]
  },
  {
   "cell_type": "markdown",
   "metadata": {
    "slideshow": {
     "slide_type": "slide"
    }
   },
   "source": [
    "Updating a statistic often takes the form of a weighted average:\n",
    "\n",
    "$\\theta^{(t)} = (1 - \\gamma_t)\\theta^{(t-1)} + \\gamma_t (\\; newval \\;), \\quad 0 < \\gamma_t \\le 1$\n",
    "\n",
    "If we are updating observations one-by-one:\n",
    "\n",
    "- `EqualWeight` \n",
    "    - $\\gamma_t = \\frac{1}{t}$\n",
    "- `ExponentialWeight(minstep)` \n",
    "    - uses `EqualWeight` until $\\gamma_t \\le minstep$, then stays constant at `minstep`\n",
    "- `LearningRate(r)` \n",
    "    - $\\gamma_t = \\frac{1}{t^r}$"
   ]
  },
  {
   "cell_type": "markdown",
   "metadata": {
    "slideshow": {
     "slide_type": "slide"
    }
   },
   "source": [
    "- `LearningRate` is mainly used for stochastic gradient descent (SGD) and its variants:\n",
    "\n",
    "$$\\theta^{(t)} = \\theta^{(t-1)} - \\gamma_t \\; g_t$$\n",
    "\n",
    "- SGD is a standard for creating online algorithms for statistical models. "
   ]
  },
  {
   "cell_type": "markdown",
   "metadata": {
    "slideshow": {
     "slide_type": "slide"
    }
   },
   "source": [
    "### `TracePlot`"
   ]
  },
  {
   "cell_type": "code",
   "execution_count": 51,
   "metadata": {
    "collapsed": false
   },
   "outputs": [
    {
     "data": {
      "image/svg+xml": [
       "<?xml version=\"1.0\" encoding=\"UTF-8\"?>\n",
       "<svg xmlns=\"http://www.w3.org/2000/svg\"\n",
       "     xmlns:xlink=\"http://www.w3.org/1999/xlink\"\n",
       "     xmlns:gadfly=\"http://www.gadflyjl.org/ns\"\n",
       "     version=\"1.2\"\n",
       "     width=\"158.73mm\" height=\"105.82mm\" viewBox=\"0 0 158.73 105.82\"\n",
       "     stroke=\"none\"\n",
       "     fill=\"#000000\"\n",
       "     stroke-width=\"0.3\"\n",
       "     font-size=\"3.88\"\n",
       ">\n",
       "<g stroke=\"#000000\" stroke-opacity=\"0.000\" fill=\"#FFFFFF\" id=\"img-01e7c795-1\">\n",
       "  <rect x=\"0\" y=\"0\" width=\"158.73\" height=\"105.82\"/>\n",
       "</g>\n",
       "<g class=\"plotroot xscalable yscalable\" id=\"img-01e7c795-2\">\n",
       "  <g font-size=\"3.88\" font-family=\"Helvetica\" fill=\"#000000\" stroke=\"#000000\" stroke-opacity=\"0.000\" id=\"img-01e7c795-3\">\n",
       "    <text x=\"78.14\" y=\"98.2\" text-anchor=\"middle\" dy=\"0.6em\">nobs</text>\n",
       "  </g>\n",
       "  <g class=\"guide xlabels\" font-size=\"2.82\" font-family=\"Helvetica\" fill=\"#000000\" id=\"img-01e7c795-4\">\n",
       "    <text x=\"9.86\" y=\"91.57\" text-anchor=\"middle\" dy=\"0.6em\">0</text>\n",
       "    <text x=\"78.14\" y=\"91.57\" text-anchor=\"middle\" dy=\"0.6em\">5.0×10³</text>\n",
       "    <text x=\"146.43\" y=\"91.57\" text-anchor=\"middle\" dy=\"0.6em\">1.0×10⁴</text>\n",
       "  </g>\n",
       "  <g class=\"guide colorkey\" id=\"img-01e7c795-5\">\n",
       "    <g fill=\"#000000\" font-size=\"2.82\" font-family=\"Helvetica\" id=\"img-01e7c795-6\">\n",
       "      <text x=\"152.24\" y=\"43.97\" dy=\"0.35em\">0.25</text>\n",
       "      <text x=\"152.24\" y=\"47.6\" dy=\"0.35em\">0.50</text>\n",
       "      <text x=\"152.24\" y=\"51.23\" dy=\"0.35em\">0.75</text>\n",
       "    </g>\n",
       "    <g stroke=\"#000000\" stroke-opacity=\"0.000\" id=\"img-01e7c795-7\">\n",
       "      <rect x=\"149.43\" y=\"43.06\" width=\"1.82\" height=\"1.82\" fill=\"#009AFA\"/>\n",
       "      <rect x=\"149.43\" y=\"46.69\" width=\"1.82\" height=\"1.82\" fill=\"#E36F47\"/>\n",
       "      <rect x=\"149.43\" y=\"50.32\" width=\"1.82\" height=\"1.82\" fill=\"#00A86C\"/>\n",
       "    </g>\n",
       "    <g fill=\"#000000\" font-size=\"3.88\" font-family=\"Helvetica\" stroke=\"#000000\" stroke-opacity=\"0.000\" id=\"img-01e7c795-8\">\n",
       "      <text x=\"149.43\" y=\"40.14\"></text>\n",
       "    </g>\n",
       "  </g>\n",
       "<g clip-path=\"url(#img-01e7c795-9)\">\n",
       "  <g id=\"img-01e7c795-10\">\n",
       "    <g pointer-events=\"visible\" opacity=\"1\" fill=\"#000000\" fill-opacity=\"0.000\" stroke=\"#000000\" stroke-opacity=\"0.000\" class=\"guide background\" id=\"img-01e7c795-11\">\n",
       "      <rect x=\"7.86\" y=\"1\" width=\"140.57\" height=\"89.57\"/>\n",
       "    </g>\n",
       "    <g class=\"guide ygridlines xfixed\" stroke-dasharray=\"0.5,0.5\" stroke-width=\"0.2\" stroke=\"#D0D0E0\" id=\"img-01e7c795-12\">\n",
       "      <path fill=\"none\" d=\"M7.86,88.57 L 148.43 88.57\"/>\n",
       "      <path fill=\"none\" d=\"M7.86,67.17 L 148.43 67.17\"/>\n",
       "      <path fill=\"none\" d=\"M7.86,45.78 L 148.43 45.78\"/>\n",
       "      <path fill=\"none\" d=\"M7.86,24.39 L 148.43 24.39\"/>\n",
       "      <path fill=\"none\" d=\"M7.86,3 L 148.43 3\"/>\n",
       "    </g>\n",
       "    <g class=\"guide xgridlines yfixed\" stroke-dasharray=\"0.5,0.5\" stroke-width=\"0.2\" stroke=\"#D0D0E0\" id=\"img-01e7c795-13\">\n",
       "      <path fill=\"none\" d=\"M9.86,1 L 9.86 90.57\"/>\n",
       "      <path fill=\"none\" d=\"M78.14,1 L 78.14 90.57\"/>\n",
       "      <path fill=\"none\" d=\"M146.43,1 L 146.43 90.57\"/>\n",
       "    </g>\n",
       "    <g class=\"plotpanel\" id=\"img-01e7c795-14\">\n",
       "      <g stroke-width=\"0.26\" fill=\"#000000\" fill-opacity=\"0.000\" class=\"geometry\" stroke-dasharray=\"none\" stroke=\"#009AFA\" id=\"img-01e7c795-15\">\n",
       "        <path fill=\"none\" d=\"M9.86,45.78 L 11.23 70.31 12.59 72.45 13.96 73.98 15.32 72.43 16.69 71.3 18.05 70.63 19.42 72.89 20.79 71.87 22.15 73.05 23.52 73.59 24.88 74.02 26.25 74.72 27.61 75.21 28.98 74.81 30.35 75.82 31.71 74.92 33.08 74.74 34.44 74.48 35.81 74.45 37.17 74.08 38.54 74.12 39.9 73.63 41.27 73.77 42.64 73.91 44 74.07 45.37 74.28 46.73 74.28 48.1 74.27 49.46 74.28 50.83 74.27 52.2 74.28 53.56 74.24 54.93 74.29 56.29 74.28 57.66 74.33 59.02 74.31 60.39 74.32 61.76 74.52 63.12 74.4 64.49 74.23 65.85 74.12 67.22 74.3 68.58 74.66 69.95 74.71 71.32 74.88 72.68 74.66 74.05 74.5 75.41 74.38 76.78 74.38 78.14 74.48 79.51 74.4 80.87 74.49 82.24 75.01 83.61 75.01 84.97 75.15 86.34 75.28 87.7 75.06 89.07 75.13 90.43 75.03 91.8 75 93.17 74.94 94.53 75 95.9 74.93 97.26 75.03 98.63 75.17 99.99 74.99 101.36 75.22 102.73 75.01 104.09 74.95 105.46 74.91 106.82 75.12 108.19 75.16 109.55 75.16 110.92 75.25 112.29 75.2 113.65 75.66 115.02 75.42 116.38 75.39 117.75 75.48 119.11 75.67 120.48 75.5 121.84 75.58 123.21 75.51 124.58 75.48 125.94 75.45 127.31 75.4 128.67 75.53 130.04 75.59 131.4 75.63 132.77 75.52 134.14 75.47 135.5 75.32 136.87 75.32 138.23 75.01 139.6 74.91 140.96 74.89 142.33 74.97 143.7 75 145.06 75.07 146.43 75.09\"/>\n",
       "      </g>\n",
       "      <g stroke-width=\"0.26\" fill=\"#000000\" fill-opacity=\"0.000\" class=\"geometry\" stroke-dasharray=\"none\" stroke=\"#E36F47\" id=\"img-01e7c795-16\">\n",
       "        <path fill=\"none\" d=\"M9.86,45.78 L 11.23 51.52 12.59 46.03 13.96 46.68 15.32 46.24 16.69 45.09 18.05 45.55 19.42 45.11 20.79 43.76 22.15 43.73 23.52 44.55 24.88 44.7 26.25 45.02 27.61 45.5 28.98 44.94 30.35 46.17 31.71 46.1 33.08 46.05 34.44 45.96 35.81 45.68 37.17 45.17 38.54 45.37 39.9 45.43 41.27 45.44 42.64 45.75 44 45.55 45.37 45.74 46.73 45.79 48.1 45.73 49.46 45.73 50.83 45.11 52.2 45.29 53.56 45.22 54.93 45.69 56.29 45.75 57.66 45.87 59.02 45.93 60.39 46.18 61.76 46.33 63.12 46.08 64.49 45.84 65.85 45.42 67.22 45.81 68.58 45.75 69.95 46.11 71.32 45.95 72.68 45.54 74.05 45.26 75.41 45.04 76.78 45.13 78.14 45.05 79.51 44.86 80.87 45.09 82.24 45.47 83.61 45.57 84.97 45.61 86.34 45.74 87.7 45.61 89.07 45.54 90.43 45.41 91.8 45.14 93.17 45.1 94.53 45.53 95.9 45.63 97.26 45.57 98.63 45.7 99.99 45.47 101.36 45.58 102.73 45.57 104.09 45.46 105.46 45.76 106.82 45.96 108.19 45.93 109.55 45.8 110.92 45.89 112.29 45.82 113.65 45.98 115.02 45.88 116.38 45.86 117.75 45.92 119.11 45.83 120.48 45.57 121.84 45.76 123.21 45.67 124.58 45.59 125.94 45.48 127.31 45.45 128.67 45.61 130.04 45.82 131.4 45.94 132.77 45.91 134.14 46.14 135.5 46.1 136.87 46.1 138.23 46.13 139.6 46.19 140.96 46.1 142.33 46.23 143.7 46.43 145.06 46.25 146.43 46.28\"/>\n",
       "      </g>\n",
       "      <g stroke-width=\"0.26\" fill=\"#000000\" fill-opacity=\"0.000\" class=\"geometry\" stroke-dasharray=\"none\" stroke=\"#00A86C\" id=\"img-01e7c795-17\">\n",
       "        <path fill=\"none\" d=\"M9.86,45.78 L 11.23 17.19 12.59 13.33 13.96 12.07 15.32 12.58 16.69 12.65 18.05 13.04 19.42 13.28 20.79 13.54 22.15 14 23.52 14.31 24.88 14.4 26.25 15.08 27.61 15.16 28.98 15.53 30.35 16.03 31.71 16 33.08 15.83 34.44 15.92 35.81 15.94 37.17 15.85 38.54 16.23 39.9 16.29 41.27 16.19 42.64 16.72 44 16.47 45.37 16.18 46.73 15.62 48.1 15.95 49.46 15.72 50.83 15.46 52.2 15.83 53.56 16.06 54.93 16.11 56.29 16.05 57.66 16.15 59.02 16.31 60.39 16.39 61.76 16.68 63.12 16.54 64.49 16.4 65.85 16.14 67.22 16.57 68.58 16.63 69.95 17.23 71.32 17.45 72.68 17.16 74.05 16.56 75.41 16.55 76.78 16.61 78.14 16.29 79.51 16.22 80.87 16.4 82.24 16.61 83.61 16.61 84.97 16.52 86.34 16.49 87.7 16.23 89.07 16.01 90.43 15.78 91.8 15.9 93.17 15.89 94.53 16.17 95.9 16.41 97.26 16.91 98.63 17.36 99.99 17.09 101.36 17.12 102.73 17.19 104.09 17.06 105.46 17.25 106.82 17.25 108.19 17.32 109.55 17.36 110.92 17.6 112.29 17.52 113.65 17.44 115.02 17.4 116.38 17.44 117.75 17.39 119.11 17.2 120.48 17.16 121.84 17.2 123.21 17.25 124.58 17.18 125.94 16.92 127.31 16.92 128.67 17.07 130.04 17.24 131.4 17.36 132.77 17.46 134.14 17.65 135.5 17.79 136.87 17.76 138.23 17.65 139.6 17.76 140.96 17.65 142.33 17.83 143.7 18.08 145.06 17.75 146.43 17.72\"/>\n",
       "      </g>\n",
       "    </g>\n",
       "  </g>\n",
       "</g>\n",
       "  <g class=\"guide ylabels\" font-size=\"2.82\" font-family=\"Helvetica\" fill=\"#000000\" id=\"img-01e7c795-18\">\n",
       "    <text x=\"6.86\" y=\"88.57\" text-anchor=\"end\" dy=\"0.35em\">-1.0</text>\n",
       "    <text x=\"6.86\" y=\"67.17\" text-anchor=\"end\" dy=\"0.35em\">-0.5</text>\n",
       "    <text x=\"6.86\" y=\"45.78\" text-anchor=\"end\" dy=\"0.35em\">0.0</text>\n",
       "    <text x=\"6.86\" y=\"24.39\" text-anchor=\"end\" dy=\"0.35em\">0.5</text>\n",
       "    <text x=\"6.86\" y=\"3\" text-anchor=\"end\" dy=\"0.35em\">1.0</text>\n",
       "  </g>\n",
       "</g>\n",
       "<defs>\n",
       "  <clipPath id=\"img-01e7c795-9\">\n",
       "  <path d=\"M7.86,1 L 148.43 1 148.43 90.57 7.86 90.57\" />\n",
       "</clipPath>\n",
       "</defs>\n",
       "</svg>\n"
      ],
      "text/html": [
       "<?xml version=\"1.0\" encoding=\"UTF-8\"?>\n",
       "<svg xmlns=\"http://www.w3.org/2000/svg\"\n",
       "     xmlns:xlink=\"http://www.w3.org/1999/xlink\"\n",
       "     xmlns:gadfly=\"http://www.gadflyjl.org/ns\"\n",
       "     version=\"1.2\"\n",
       "     width=\"158.73mm\" height=\"105.82mm\" viewBox=\"0 0 158.73 105.82\"\n",
       "     stroke=\"none\"\n",
       "     fill=\"#000000\"\n",
       "     stroke-width=\"0.3\"\n",
       "     font-size=\"3.88\"\n",
       ">\n",
       "<g stroke=\"#000000\" stroke-opacity=\"0.000\" fill=\"#FFFFFF\" id=\"img-01e7c795-1\">\n",
       "  <rect x=\"0\" y=\"0\" width=\"158.73\" height=\"105.82\"/>\n",
       "</g>\n",
       "<g class=\"plotroot xscalable yscalable\" id=\"img-01e7c795-2\">\n",
       "  <g font-size=\"3.88\" font-family=\"Helvetica\" fill=\"#000000\" stroke=\"#000000\" stroke-opacity=\"0.000\" id=\"img-01e7c795-3\">\n",
       "    <text x=\"78.14\" y=\"98.2\" text-anchor=\"middle\" dy=\"0.6em\">nobs</text>\n",
       "  </g>\n",
       "  <g class=\"guide xlabels\" font-size=\"2.82\" font-family=\"Helvetica\" fill=\"#000000\" id=\"img-01e7c795-4\">\n",
       "    <text x=\"9.86\" y=\"91.57\" text-anchor=\"middle\" dy=\"0.6em\">0</text>\n",
       "    <text x=\"78.14\" y=\"91.57\" text-anchor=\"middle\" dy=\"0.6em\">5.0×10³</text>\n",
       "    <text x=\"146.43\" y=\"91.57\" text-anchor=\"middle\" dy=\"0.6em\">1.0×10⁴</text>\n",
       "  </g>\n",
       "  <g class=\"guide colorkey\" id=\"img-01e7c795-5\">\n",
       "    <g fill=\"#000000\" font-size=\"2.82\" font-family=\"Helvetica\" id=\"img-01e7c795-6\">\n",
       "      <text x=\"152.24\" y=\"43.97\" dy=\"0.35em\">0.25</text>\n",
       "      <text x=\"152.24\" y=\"47.6\" dy=\"0.35em\">0.50</text>\n",
       "      <text x=\"152.24\" y=\"51.23\" dy=\"0.35em\">0.75</text>\n",
       "    </g>\n",
       "    <g stroke=\"#000000\" stroke-opacity=\"0.000\" id=\"img-01e7c795-7\">\n",
       "      <rect x=\"149.43\" y=\"43.06\" width=\"1.82\" height=\"1.82\" fill=\"#009AFA\"/>\n",
       "      <rect x=\"149.43\" y=\"46.69\" width=\"1.82\" height=\"1.82\" fill=\"#E36F47\"/>\n",
       "      <rect x=\"149.43\" y=\"50.32\" width=\"1.82\" height=\"1.82\" fill=\"#00A86C\"/>\n",
       "    </g>\n",
       "    <g fill=\"#000000\" font-size=\"3.88\" font-family=\"Helvetica\" stroke=\"#000000\" stroke-opacity=\"0.000\" id=\"img-01e7c795-8\">\n",
       "      <text x=\"149.43\" y=\"40.14\"></text>\n",
       "    </g>\n",
       "  </g>\n",
       "<g clip-path=\"url(#img-01e7c795-9)\">\n",
       "  <g id=\"img-01e7c795-10\">\n",
       "    <g pointer-events=\"visible\" opacity=\"1\" fill=\"#000000\" fill-opacity=\"0.000\" stroke=\"#000000\" stroke-opacity=\"0.000\" class=\"guide background\" id=\"img-01e7c795-11\">\n",
       "      <rect x=\"7.86\" y=\"1\" width=\"140.57\" height=\"89.57\"/>\n",
       "    </g>\n",
       "    <g class=\"guide ygridlines xfixed\" stroke-dasharray=\"0.5,0.5\" stroke-width=\"0.2\" stroke=\"#D0D0E0\" id=\"img-01e7c795-12\">\n",
       "      <path fill=\"none\" d=\"M7.86,88.57 L 148.43 88.57\"/>\n",
       "      <path fill=\"none\" d=\"M7.86,67.17 L 148.43 67.17\"/>\n",
       "      <path fill=\"none\" d=\"M7.86,45.78 L 148.43 45.78\"/>\n",
       "      <path fill=\"none\" d=\"M7.86,24.39 L 148.43 24.39\"/>\n",
       "      <path fill=\"none\" d=\"M7.86,3 L 148.43 3\"/>\n",
       "    </g>\n",
       "    <g class=\"guide xgridlines yfixed\" stroke-dasharray=\"0.5,0.5\" stroke-width=\"0.2\" stroke=\"#D0D0E0\" id=\"img-01e7c795-13\">\n",
       "      <path fill=\"none\" d=\"M9.86,1 L 9.86 90.57\"/>\n",
       "      <path fill=\"none\" d=\"M78.14,1 L 78.14 90.57\"/>\n",
       "      <path fill=\"none\" d=\"M146.43,1 L 146.43 90.57\"/>\n",
       "    </g>\n",
       "    <g class=\"plotpanel\" id=\"img-01e7c795-14\">\n",
       "      <g stroke-width=\"0.26\" fill=\"#000000\" fill-opacity=\"0.000\" class=\"geometry\" stroke-dasharray=\"none\" stroke=\"#009AFA\" id=\"img-01e7c795-15\">\n",
       "        <path fill=\"none\" d=\"M9.86,45.78 L 11.23 70.31 12.59 72.45 13.96 73.98 15.32 72.43 16.69 71.3 18.05 70.63 19.42 72.89 20.79 71.87 22.15 73.05 23.52 73.59 24.88 74.02 26.25 74.72 27.61 75.21 28.98 74.81 30.35 75.82 31.71 74.92 33.08 74.74 34.44 74.48 35.81 74.45 37.17 74.08 38.54 74.12 39.9 73.63 41.27 73.77 42.64 73.91 44 74.07 45.37 74.28 46.73 74.28 48.1 74.27 49.46 74.28 50.83 74.27 52.2 74.28 53.56 74.24 54.93 74.29 56.29 74.28 57.66 74.33 59.02 74.31 60.39 74.32 61.76 74.52 63.12 74.4 64.49 74.23 65.85 74.12 67.22 74.3 68.58 74.66 69.95 74.71 71.32 74.88 72.68 74.66 74.05 74.5 75.41 74.38 76.78 74.38 78.14 74.48 79.51 74.4 80.87 74.49 82.24 75.01 83.61 75.01 84.97 75.15 86.34 75.28 87.7 75.06 89.07 75.13 90.43 75.03 91.8 75 93.17 74.94 94.53 75 95.9 74.93 97.26 75.03 98.63 75.17 99.99 74.99 101.36 75.22 102.73 75.01 104.09 74.95 105.46 74.91 106.82 75.12 108.19 75.16 109.55 75.16 110.92 75.25 112.29 75.2 113.65 75.66 115.02 75.42 116.38 75.39 117.75 75.48 119.11 75.67 120.48 75.5 121.84 75.58 123.21 75.51 124.58 75.48 125.94 75.45 127.31 75.4 128.67 75.53 130.04 75.59 131.4 75.63 132.77 75.52 134.14 75.47 135.5 75.32 136.87 75.32 138.23 75.01 139.6 74.91 140.96 74.89 142.33 74.97 143.7 75 145.06 75.07 146.43 75.09\"/>\n",
       "      </g>\n",
       "      <g stroke-width=\"0.26\" fill=\"#000000\" fill-opacity=\"0.000\" class=\"geometry\" stroke-dasharray=\"none\" stroke=\"#E36F47\" id=\"img-01e7c795-16\">\n",
       "        <path fill=\"none\" d=\"M9.86,45.78 L 11.23 51.52 12.59 46.03 13.96 46.68 15.32 46.24 16.69 45.09 18.05 45.55 19.42 45.11 20.79 43.76 22.15 43.73 23.52 44.55 24.88 44.7 26.25 45.02 27.61 45.5 28.98 44.94 30.35 46.17 31.71 46.1 33.08 46.05 34.44 45.96 35.81 45.68 37.17 45.17 38.54 45.37 39.9 45.43 41.27 45.44 42.64 45.75 44 45.55 45.37 45.74 46.73 45.79 48.1 45.73 49.46 45.73 50.83 45.11 52.2 45.29 53.56 45.22 54.93 45.69 56.29 45.75 57.66 45.87 59.02 45.93 60.39 46.18 61.76 46.33 63.12 46.08 64.49 45.84 65.85 45.42 67.22 45.81 68.58 45.75 69.95 46.11 71.32 45.95 72.68 45.54 74.05 45.26 75.41 45.04 76.78 45.13 78.14 45.05 79.51 44.86 80.87 45.09 82.24 45.47 83.61 45.57 84.97 45.61 86.34 45.74 87.7 45.61 89.07 45.54 90.43 45.41 91.8 45.14 93.17 45.1 94.53 45.53 95.9 45.63 97.26 45.57 98.63 45.7 99.99 45.47 101.36 45.58 102.73 45.57 104.09 45.46 105.46 45.76 106.82 45.96 108.19 45.93 109.55 45.8 110.92 45.89 112.29 45.82 113.65 45.98 115.02 45.88 116.38 45.86 117.75 45.92 119.11 45.83 120.48 45.57 121.84 45.76 123.21 45.67 124.58 45.59 125.94 45.48 127.31 45.45 128.67 45.61 130.04 45.82 131.4 45.94 132.77 45.91 134.14 46.14 135.5 46.1 136.87 46.1 138.23 46.13 139.6 46.19 140.96 46.1 142.33 46.23 143.7 46.43 145.06 46.25 146.43 46.28\"/>\n",
       "      </g>\n",
       "      <g stroke-width=\"0.26\" fill=\"#000000\" fill-opacity=\"0.000\" class=\"geometry\" stroke-dasharray=\"none\" stroke=\"#00A86C\" id=\"img-01e7c795-17\">\n",
       "        <path fill=\"none\" d=\"M9.86,45.78 L 11.23 17.19 12.59 13.33 13.96 12.07 15.32 12.58 16.69 12.65 18.05 13.04 19.42 13.28 20.79 13.54 22.15 14 23.52 14.31 24.88 14.4 26.25 15.08 27.61 15.16 28.98 15.53 30.35 16.03 31.71 16 33.08 15.83 34.44 15.92 35.81 15.94 37.17 15.85 38.54 16.23 39.9 16.29 41.27 16.19 42.64 16.72 44 16.47 45.37 16.18 46.73 15.62 48.1 15.95 49.46 15.72 50.83 15.46 52.2 15.83 53.56 16.06 54.93 16.11 56.29 16.05 57.66 16.15 59.02 16.31 60.39 16.39 61.76 16.68 63.12 16.54 64.49 16.4 65.85 16.14 67.22 16.57 68.58 16.63 69.95 17.23 71.32 17.45 72.68 17.16 74.05 16.56 75.41 16.55 76.78 16.61 78.14 16.29 79.51 16.22 80.87 16.4 82.24 16.61 83.61 16.61 84.97 16.52 86.34 16.49 87.7 16.23 89.07 16.01 90.43 15.78 91.8 15.9 93.17 15.89 94.53 16.17 95.9 16.41 97.26 16.91 98.63 17.36 99.99 17.09 101.36 17.12 102.73 17.19 104.09 17.06 105.46 17.25 106.82 17.25 108.19 17.32 109.55 17.36 110.92 17.6 112.29 17.52 113.65 17.44 115.02 17.4 116.38 17.44 117.75 17.39 119.11 17.2 120.48 17.16 121.84 17.2 123.21 17.25 124.58 17.18 125.94 16.92 127.31 16.92 128.67 17.07 130.04 17.24 131.4 17.36 132.77 17.46 134.14 17.65 135.5 17.79 136.87 17.76 138.23 17.65 139.6 17.76 140.96 17.65 142.33 17.83 143.7 18.08 145.06 17.75 146.43 17.72\"/>\n",
       "      </g>\n",
       "    </g>\n",
       "  </g>\n",
       "</g>\n",
       "  <g class=\"guide ylabels\" font-size=\"2.82\" font-family=\"Helvetica\" fill=\"#000000\" id=\"img-01e7c795-18\">\n",
       "    <text x=\"6.86\" y=\"88.57\" text-anchor=\"end\" dy=\"0.35em\">-1.0</text>\n",
       "    <text x=\"6.86\" y=\"67.17\" text-anchor=\"end\" dy=\"0.35em\">-0.5</text>\n",
       "    <text x=\"6.86\" y=\"45.78\" text-anchor=\"end\" dy=\"0.35em\">0.0</text>\n",
       "    <text x=\"6.86\" y=\"24.39\" text-anchor=\"end\" dy=\"0.35em\">0.5</text>\n",
       "    <text x=\"6.86\" y=\"3\" text-anchor=\"end\" dy=\"0.35em\">1.0</text>\n",
       "  </g>\n",
       "</g>\n",
       "<defs>\n",
       "  <clipPath id=\"img-01e7c795-9\">\n",
       "  <path d=\"M7.86,1 L 148.43 1 148.43 90.57 7.86 90.57\" />\n",
       "</clipPath>\n",
       "</defs>\n",
       "</svg>\n"
      ],
      "text/plain": [
       "Compose.SVG(158.73015873015876mm,105.82010582010584mm,IOBuffer(data=UInt8[...], readable=true, writable=true, seekable=true, append=false, size=7778, maxsize=Inf, ptr=7779, mark=-1),nothing,\"img-01e7c795\",0,Compose.SVGPropertyFrame[],Dict{Type{T},Union{Compose.Property{P<:Compose.PropertyPrimitive},Void}}(Compose.Property{Compose.FillPrimitive}=>nothing),Dict{Compose.ClipPrimitive{P<:NTuple{N,Measures.Measure}},ASCIIString}(Compose.ClipPrimitive{Tuple{Measures.Length{:mm,Float64},Measures.Length{:mm,Float64}}}([(7.860000000000014mm,1.0mm),(148.42682539682545mm,1.0mm),(148.42682539682545mm,90.56593915343916mm),(7.860000000000014mm,90.56593915343916mm)])=>\"img-01e7c795-9\"),Tuple{Compose.FormPrimitive,ASCIIString}[],Set{AbstractString}(),true,false,nothing,true,\"img-01e7c795-18\",false,18,AbstractString[\"/Users/joshday/.julia/v0.4/Gadfly/src/gadfly.js\"],Tuple{AbstractString,AbstractString}[(\"Snap.svg\",\"Snap\"),(\"Gadfly\",\"Gadfly\")],AbstractString[\"fig.select(\\\"#img-01e7c795-5\\\")\\n   .drag(function() {}, function() {}, function() {});\",\"fig.select(\\\"#img-01e7c795-10\\\")\\n   .init_gadfly();\"],false,:none)"
      ]
     },
     "metadata": {},
     "output_type": "display_data"
    },
    {
     "data": {
      "image/png": "[encoded data removed]",
      "image/svg+xml": [],
      "text/plain": [
       "Plot{Plots.GadflyPackage() n=3}"
      ]
     },
     "execution_count": 51,
     "metadata": {},
     "output_type": "execute_result"
    }
   ],
   "source": [
    "# Online MM Algorithm for quantiles\n",
    "o = QuantileMM(LearningRate(.7))\n",
    "tr = TracePlot(o, value, xlab = \"nobs\", lab = [\"0.25\" \"0.50\" \"0.75\"])\n",
    "for i in 1:100 \n",
    "    fit!(tr, randn(100)) \n",
    "end\n",
    "plot(tr)"
   ]
  },
  {
   "cell_type": "markdown",
   "metadata": {
    "slideshow": {
     "slide_type": "slide"
    }
   },
   "source": [
    "### Distribution Fitting\n",
    "\n",
    "Fitting specific distributions to data is available through the `FitDistribution` and `FitMvDistribution` types.  Most common types from the Distributions package are covered."
   ]
  },
  {
   "cell_type": "code",
   "execution_count": 7,
   "metadata": {
    "collapsed": false,
    "slideshow": {
     "slide_type": "slide"
    }
   },
   "outputs": [
    {
     "name": "stdout",
     "output_type": "stream",
     "text": [
      "  "
     ]
    },
    {
     "data": {
      "text/plain": [
       "▌ FitDistribution \n",
       " •    value: Distributions.Categorical(K=4, p=[0.2499485,0.2499521,0.2501215,0.2499779])\n",
       " •     nobs: 10000000\n"
      ]
     },
     "execution_count": 7,
     "metadata": {},
     "output_type": "execute_result"
    }
   ],
   "source": [
    "using Distributions\n",
    "y2 = rand(Categorical([.25, .25, .25, .25]), 10_000_000)\n",
    "@time FitDistribution(Categorical, y2)"
   ]
  },
  {
   "cell_type": "code",
   "execution_count": 52,
   "metadata": {
    "collapsed": false,
    "scrolled": true,
    "slideshow": {
     "slide_type": "slide"
    }
   },
   "outputs": [
    {
     "name": "stdout",
     "output_type": "stream",
     "text": [
      "  "
     ]
    },
    {
     "data": {
      "text/plain": [
       "▌ FitMvDistribution \n",
       " •    value: FullNormal(\n",
       "dim: 5\n",
       "μ: [0.003810445684929261,-0.003254634196375104,-0.0008846275915152948,0.003474118558503861,-0.0022351959685545917]\n",
       "Σ: 5x5 Array{Float64,2}:\n",
       "  1.00229      -0.000693998   0.00495774   -0.000429876  -0.00608732 \n",
       " -0.000693998   0.991974     -0.00241015    0.00421108    0.00348139 \n",
       "  0.00495774   -0.00241015    0.996412      0.000520063  -0.00100572 \n",
       " -0.000429876   0.00421108    0.000520063   1.00786       0.000352204\n",
       " -0.00608732    0.00348139   -0.00100572    0.000352204   1.00094    \n",
       ")\n",
       "\n",
       " •     nobs: 100000\n"
      ]
     },
     "execution_count": 52,
     "metadata": {},
     "output_type": "execute_result"
    },
    {
     "name": "stdout",
     "output_type": "stream",
     "text": [
      "0.008990 seconds (100.03 k allocations: 4.580 MB)\n"
     ]
    }
   ],
   "source": [
    "y2 = rand(MvNormal(zeros(5), eye(5)), 100_000)'\n",
    "@time FitMvDistribution(MvNormal, y2)"
   ]
  },
  {
   "cell_type": "markdown",
   "metadata": {
    "slideshow": {
     "slide_type": "slide"
    }
   },
   "source": [
    "### Density Estimation with `AverageShiftedHistograms.jl`\n",
    "\n",
    "- An Average Shifted Histogram is essentially a kernel density estimator using a fine-partition histogram instead of individual observations.  \n",
    "- While you lose information by using ASH vs. KDE, complexity of the estimation doesn't grow with $n$."
   ]
  },
  {
   "cell_type": "code",
   "execution_count": 55,
   "metadata": {
    "collapsed": false,
    "slideshow": {
     "slide_type": "slide"
    }
   },
   "outputs": [],
   "source": [
    "using AverageShiftedHistograms\n",
    "a = ash(y[1:10], -5:.1:5, m = 5)\n",
    "p = plot(a.rng, a.y, ylims = (0, .5), xlab = \"nobs: $(nobs(a))\")\n",
    "δ = a.rng.step / a.rng.divisor\n",
    "plot!(a.rng, a.v / sum(δ * a.v), t = :step)\n",
    "plot!(x -> pdf(Normal(), x), -4, 4)\n",
    "\n",
    "rng = 11:20\n",
    "anim = Animation()\n",
    "frame(anim)\n",
    "for i in 1:200\n",
    "    fit!(a, y[rng], warnout = false)\n",
    "    p2 = plot(a.rng, a.y, ylims = (0,.5), xlab = \"nobs: $(nobs(a))\")\n",
    "    plot!(a.rng, a.v / sum(δ * a.v), t = :step)\n",
    "    plot!(x -> pdf(Normal(), x), -4, 4)\n",
    "    p.o = p2.o\n",
    "    frame(anim)\n",
    "    rng += 10\n",
    "end"
   ]
  },
  {
   "cell_type": "code",
   "execution_count": 56,
   "metadata": {
    "collapsed": false,
    "slideshow": {
     "slide_type": "slide"
    }
   },
   "outputs": [
    {
     "name": "stderr",
     "output_type": "stream",
     "text": [
      "INFO: Saved animation to /Users/joshday/github/TriangleJuliaUsers_OnlineStats/ASH.gif\n"
     ]
    },
    {
     "data": {
      "text/html": [
       "<img src=\"ASH.gif?0.693371934947324>\" />"
      ],
      "text/plain": [
       "Plots.AnimatedGif(\"/Users/joshday/github/TriangleJuliaUsers_OnlineStats/ASH.gif\")"
      ]
     },
     "execution_count": 56,
     "metadata": {},
     "output_type": "execute_result"
    }
   ],
   "source": [
    "gif(anim, \"ASH.gif\")"
   ]
  },
  {
   "cell_type": "markdown",
   "metadata": {
    "slideshow": {
     "slide_type": "slide"
    }
   },
   "source": [
    "### Predictive Models with Regularization\n",
    "\n",
    "Objective:  $$L(\\beta) = f(\\beta) + \\lambda g(\\beta)$$\n",
    "\n",
    "\n",
    "- Linear Regression: $f(\\beta) = (y - x\\beta)^T(y-x\\beta)$\n",
    "- Logistic Regression: $f(\\beta) = -\\sum\\left[y_i x_i^T\\beta - \\ln(1 + e^{x_i^T\\beta})\\right]$\n",
    "\n",
    "\n",
    "- Ridge Penalty: $g(\\beta) = \\sum \\beta_i^2$\n",
    "- LASSO Penalty: $g(\\beta) = \\sum |\\beta_i|$"
   ]
  },
  {
   "cell_type": "markdown",
   "metadata": {
    "slideshow": {
     "slide_type": "slide"
    }
   },
   "source": [
    "This framework is done through the `StatLearn` (statistical learning) type.\n",
    "\n",
    "The building blocks of which are:\n",
    "\n",
    "- `ModelDef`\n",
    "    - Model defintion, specifies link and loss functions\n",
    "- `Penalty`\n",
    "- `Algorithm` "
   ]
  },
  {
   "cell_type": "markdown",
   "metadata": {
    "slideshow": {
     "slide_type": "slide"
    }
   },
   "source": [
    "### `ModelDef`\n",
    "\n",
    "- `L2Regression()`\n",
    "- `L1Regression()`\n",
    "- `LogisticRegression()`\n",
    "- `PoissonRegression()`\n",
    "- `QuantileRegression(tau)`\n",
    "- `HuberRegression(delta)`\n",
    "- `SVMLike()`"
   ]
  },
  {
   "cell_type": "markdown",
   "metadata": {
    "slideshow": {
     "slide_type": "slide"
    }
   },
   "source": [
    "### Penalty\n",
    "\n",
    "- `NoPenalty()`\n",
    "- `L2Penalty()` (Ridge)\n",
    "- `L1Penalty()` (LASSO)\n",
    "- `ElasticNetPenalty(a)` (weighted avg. of ridge and LASSO)\n",
    "- `SCADPenalty(a)` (smoothly clipped absolute deviation)"
   ]
  },
  {
   "cell_type": "markdown",
   "metadata": {},
   "source": [
    "### Algorithm\n",
    "\n",
    "- `SGD()` (stochastic gradient descent)\n",
    "- `AdaGrad()` (self-tuning weights, ignores `Weight`)\n",
    "- `RDA()` (regularized dual averaging)\n",
    "- `MMGrad()` (online MM Gradient)\n",
    "- `AdaMMGrad()` (self-tuning weights, ignores `Weight`)"
   ]
  },
  {
   "cell_type": "code",
   "execution_count": 11,
   "metadata": {
    "collapsed": false,
    "slideshow": {
     "slide_type": "slide"
    }
   },
   "outputs": [],
   "source": [
    "# generate some data\n",
    "n, p = 1_000_000, 10\n",
    "x = randn(n, p)\n",
    "β = collect(linspace(-1, 1, p))\n",
    "y = x*β + randn(n);\n",
    "\n",
    "# Compare models\n",
    "o1 = StatLearn(p, model = L2Regression())\n",
    "o2 = StatLearn(p, model = L1Regression())\n",
    "o3 = StatLearn(p, model = HuberRegression(2.0))\n",
    "\n",
    "tr = CompareTracePlot([o1, o2, o3], o->mean(abs(y - predict(o,x))))\n",
    "rng = 1:10\n",
    "\n",
    "for i in 1:100\n",
    "    yi = y[rng] \n",
    "    xi = x[rng, :]\n",
    "    fit!(tr, xi, yi)\n",
    "    rng += 10\n",
    "end"
   ]
  },
  {
   "cell_type": "code",
   "execution_count": 12,
   "metadata": {
    "collapsed": false
   },
   "outputs": [
    {
     "data": {
      "image/svg+xml": [
       "<?xml version=\"1.0\" encoding=\"UTF-8\"?>\n",
       "<svg xmlns=\"http://www.w3.org/2000/svg\"\n",
       "     xmlns:xlink=\"http://www.w3.org/1999/xlink\"\n",
       "     xmlns:gadfly=\"http://www.gadflyjl.org/ns\"\n",
       "     version=\"1.2\"\n",
       "     width=\"158.73mm\" height=\"105.82mm\" viewBox=\"0 0 158.73 105.82\"\n",
       "     stroke=\"none\"\n",
       "     fill=\"#000000\"\n",
       "     stroke-width=\"0.3\"\n",
       "     font-size=\"3.88\"\n",
       ">\n",
       "<g stroke=\"#000000\" stroke-opacity=\"0.000\" fill=\"#FFFFFF\" id=\"img-c61fba06-1\">\n",
       "  <rect x=\"0\" y=\"0\" width=\"158.73\" height=\"105.82\"/>\n",
       "</g>\n",
       "<g class=\"plotroot xscalable yscalable\" id=\"img-c61fba06-2\">\n",
       "  <g font-size=\"3.88\" font-family=\"Helvetica\" fill=\"#000000\" stroke=\"#000000\" stroke-opacity=\"0.000\" id=\"img-c61fba06-3\">\n",
       "    <text x=\"83.52\" y=\"98.2\" text-anchor=\"middle\" dy=\"0.6em\">nobs</text>\n",
       "  </g>\n",
       "  <g class=\"guide xlabels\" font-size=\"2.82\" font-family=\"Helvetica\" fill=\"#000000\" id=\"img-c61fba06-4\">\n",
       "    <text x=\"18.11\" y=\"91.57\" text-anchor=\"middle\" dy=\"0.6em\">0</text>\n",
       "    <text x=\"83.52\" y=\"91.57\" text-anchor=\"middle\" dy=\"0.6em\">500</text>\n",
       "    <text x=\"148.93\" y=\"91.57\" text-anchor=\"middle\" dy=\"0.6em\">1000</text>\n",
       "  </g>\n",
       "  <g class=\"guide colorkey\" id=\"img-c61fba06-5\">\n",
       "    <g fill=\"#000000\" font-size=\"2.82\" font-family=\"Helvetica\" id=\"img-c61fba06-6\">\n",
       "      <text x=\"154.75\" y=\"43.97\" dy=\"0.35em\">y1</text>\n",
       "      <text x=\"154.75\" y=\"47.6\" dy=\"0.35em\">y2</text>\n",
       "      <text x=\"154.75\" y=\"51.23\" dy=\"0.35em\">y3</text>\n",
       "    </g>\n",
       "    <g stroke=\"#000000\" stroke-opacity=\"0.000\" id=\"img-c61fba06-7\">\n",
       "      <rect x=\"151.93\" y=\"43.06\" width=\"1.82\" height=\"1.82\" fill=\"#009AFA\"/>\n",
       "      <rect x=\"151.93\" y=\"46.69\" width=\"1.82\" height=\"1.82\" fill=\"#E36F47\"/>\n",
       "      <rect x=\"151.93\" y=\"50.32\" width=\"1.82\" height=\"1.82\" fill=\"#00A86C\"/>\n",
       "    </g>\n",
       "    <g fill=\"#000000\" font-size=\"3.88\" font-family=\"Helvetica\" stroke=\"#000000\" stroke-opacity=\"0.000\" id=\"img-c61fba06-8\">\n",
       "      <text x=\"151.93\" y=\"40.14\"></text>\n",
       "    </g>\n",
       "  </g>\n",
       "<g clip-path=\"url(#img-c61fba06-9)\">\n",
       "  <g id=\"img-c61fba06-10\">\n",
       "    <g pointer-events=\"visible\" opacity=\"1\" fill=\"#000000\" fill-opacity=\"0.000\" stroke=\"#000000\" stroke-opacity=\"0.000\" class=\"guide background\" id=\"img-c61fba06-11\">\n",
       "      <rect x=\"16.11\" y=\"1\" width=\"134.83\" height=\"89.57\"/>\n",
       "    </g>\n",
       "    <g class=\"guide ygridlines xfixed\" stroke-dasharray=\"0.5,0.5\" stroke-width=\"0.2\" stroke=\"#D0D0E0\" id=\"img-c61fba06-12\">\n",
       "      <path fill=\"none\" d=\"M16.11,88.57 L 150.93 88.57\"/>\n",
       "      <path fill=\"none\" d=\"M16.11,71.45 L 150.93 71.45\"/>\n",
       "      <path fill=\"none\" d=\"M16.11,54.34 L 150.93 54.34\"/>\n",
       "      <path fill=\"none\" d=\"M16.11,37.23 L 150.93 37.23\"/>\n",
       "      <path fill=\"none\" d=\"M16.11,20.11 L 150.93 20.11\"/>\n",
       "      <path fill=\"none\" d=\"M16.11,3 L 150.93 3\"/>\n",
       "    </g>\n",
       "    <g class=\"guide xgridlines yfixed\" stroke-dasharray=\"0.5,0.5\" stroke-width=\"0.2\" stroke=\"#D0D0E0\" id=\"img-c61fba06-13\">\n",
       "      <path fill=\"none\" d=\"M18.11,1 L 18.11 90.57\"/>\n",
       "      <path fill=\"none\" d=\"M83.52,1 L 83.52 90.57\"/>\n",
       "      <path fill=\"none\" d=\"M148.93,1 L 148.93 90.57\"/>\n",
       "    </g>\n",
       "    <g class=\"plotpanel\" id=\"img-c61fba06-14\">\n",
       "      <g stroke-width=\"0.26\" fill=\"#000000\" fill-opacity=\"0.000\" class=\"geometry\" stroke-dasharray=\"none\" stroke=\"#009AFA\" id=\"img-c61fba06-15\">\n",
       "        <path fill=\"none\" d=\"M18.11,16.81 L 19.42 -840.1 20.72 -795.26 22.03 -636.71 23.34 -228.13 24.65 -125.43 25.96 -14 27.27 44.67 28.57 60.38 29.88 69.47 31.19 72.47 32.5 73.02 33.81 72.18 35.11 75.48 36.42 75.15 37.73 76.58 39.04 77.56 40.35 78.99 41.66 79.48 42.96 81.62 44.27 82.31 45.58 83.03 46.89 78.47 48.2 77.98 49.51 79.96 50.81 76.44 52.12 81.54 53.43 79.61 54.74 76.56 56.05 80.19 57.36 79.92 58.66 81.6 59.97 80.33 61.28 82.32 62.59 82.73 63.9 81.07 65.2 78.41 66.51 79.26 67.82 79.62 69.13 81.2 70.44 81.55 71.75 82.26 73.05 79.61 74.36 80.5 75.67 81.29 76.98 80.24 78.29 80.16 79.6 79.9 80.9 83.19 82.21 82.75 83.52 82.34 84.83 82.99 86.14 81.99 87.45 83.33 88.75 83.27 90.06 83.35 91.37 83 92.68 83.24 93.99 83.04 95.29 82.29 96.6 79.63 97.91 82.62 99.22 83.08 100.53 81.62 101.84 82.45 103.14 81.27 104.45 81.06 105.76 82.89 107.07 83.29 108.38 83.68 109.69 83.41 110.99 83.06 112.3 83.32 113.61 82.65 114.92 82.92 116.23 82.88 117.54 82.7 118.84 82.34 120.15 83.5 121.46 83.12 122.77 82.54 124.08 84.18 125.38 84.08 126.69 82.82 128 82.91 129.31 83.16 130.62 83.19 131.93 83.83 133.23 83.6 134.54 83.03 135.85 83.71 137.16 83.55 138.47 83.04 139.78 83.51 141.08 83.99 142.39 83.45 143.7 82.49 145.01 82.57 146.32 81.93 147.63 81.5 148.93 81.29\"/>\n",
       "      </g>\n",
       "      <g stroke-width=\"0.26\" fill=\"#000000\" fill-opacity=\"0.000\" class=\"geometry\" stroke-dasharray=\"none\" stroke=\"#E36F47\" id=\"img-c61fba06-16\">\n",
       "        <path fill=\"none\" d=\"M18.11,16.81 L 19.42 -19.14 20.72 12.91 22.03 34.8 23.34 38.62 24.65 41.93 25.96 52.43 27.27 53.16 28.57 59.79 29.88 58.92 31.19 65.85 32.5 65.14 33.81 68.03 35.11 75.97 36.42 77.09 37.73 79.9 39.04 78.71 40.35 76.55 41.66 78.27 42.96 79.92 44.27 77.53 45.58 80.89 46.89 77.89 48.2 75.52 49.51 78.76 50.81 77.74 52.12 81.83 53.43 78.05 54.74 77.87 56.05 80.84 57.36 81.51 58.66 82.39 59.97 82.88 61.28 82.07 62.59 80.77 63.9 79.31 65.2 80.02 66.51 79.49 67.82 79.21 69.13 82.12 70.44 81.8 71.75 80.69 73.05 79.9 74.36 79.45 75.67 79.89 76.98 78.66 78.29 82.43 79.6 81.25 80.9 82.85 82.21 82.04 83.52 81.19 84.83 82.18 86.14 82.12 87.45 83.22 88.75 83.5 90.06 82.87 91.37 82.56 92.68 83.01 93.99 82.89 95.29 82.49 96.6 81.4 97.91 82.68 99.22 82.52 100.53 80.22 101.84 82.17 103.14 80.87 104.45 81.46 105.76 82.7 107.07 83.2 108.38 84.01 109.69 83.85 110.99 83.48 112.3 83.46 113.61 83.18 114.92 83.72 116.23 82.91 117.54 82.09 118.84 83.19 120.15 83.55 121.46 83.06 122.77 82.74 124.08 83.26 125.38 83.34 126.69 81.63 128 81.91 129.31 82.19 130.62 81.86 131.93 82.53 133.23 83.34 134.54 83.24 135.85 82.9 137.16 82.7 138.47 82.96 139.78 83.32 141.08 82.66 142.39 82.27 143.7 80.01 145.01 81.23 146.32 80.74 147.63 80.04 148.93 80.63\"/>\n",
       "      </g>\n",
       "      <g stroke-width=\"0.26\" fill=\"#000000\" fill-opacity=\"0.000\" class=\"geometry\" stroke-dasharray=\"none\" stroke=\"#00A86C\" id=\"img-c61fba06-17\">\n",
       "        <path fill=\"none\" d=\"M18.11,16.81 L 19.42 -87.18 20.72 -11.3 22.03 15.89 23.34 42.63 24.65 55.16 25.96 65.88 27.27 67.99 28.57 70.03 29.88 72.95 31.19 78.47 32.5 75.43 33.81 72.94 35.11 78 36.42 76.86 37.73 77.64 39.04 78.4 40.35 79.38 41.66 80.3 42.96 82.03 44.27 81.95 45.58 82.88 46.89 78.84 48.2 78.83 49.51 80.36 50.81 76.5 52.12 81.65 53.43 79.69 54.74 77.61 56.05 80.36 57.36 80.18 58.66 81.94 59.97 80.79 61.28 82.41 62.59 82.94 63.9 81.41 65.2 79.4 66.51 80.03 67.82 80.29 69.13 81.83 70.44 81.9 71.75 82.37 73.05 79.69 74.36 80.33 75.67 81.17 76.98 80.05 78.29 80.74 79.6 80.39 80.9 83.15 82.21 82.67 83.52 82.4 84.83 83.06 86.14 82.31 87.45 83.57 88.75 83.29 90.06 83.33 91.37 83.07 92.68 83.33 93.99 83.1 95.29 82.63 96.6 80.48 97.91 83.04 99.22 83.3 100.53 81.98 101.84 82.68 103.14 81.56 104.45 81.38 105.76 82.88 107.07 83.33 108.38 83.76 109.69 83.63 110.99 83.3 112.3 83.45 113.61 82.8 114.92 83.19 116.23 83.17 117.54 83.07 118.84 82.85 120.15 83.77 121.46 83.3 122.77 83.39 124.08 84.27 125.38 84.22 126.69 82.97 128 83.01 129.31 83.13 130.62 83.16 131.93 83.79 133.23 83.65 134.54 83.12 135.85 83.77 137.16 83.6 138.47 83.06 139.78 83.56 141.08 83.97 142.39 83.48 143.7 82.52 145.01 82.63 146.32 82 147.63 81.67 148.93 81.43\"/>\n",
       "      </g>\n",
       "    </g>\n",
       "  </g>\n",
       "</g>\n",
       "  <g class=\"guide ylabels\" font-size=\"2.82\" font-family=\"Helvetica\" fill=\"#000000\" id=\"img-c61fba06-18\">\n",
       "    <text x=\"15.11\" y=\"88.57\" text-anchor=\"end\" dy=\"0.35em\">0.75</text>\n",
       "    <text x=\"15.11\" y=\"71.45\" text-anchor=\"end\" dy=\"0.35em\">1.00</text>\n",
       "    <text x=\"15.11\" y=\"54.34\" text-anchor=\"end\" dy=\"0.35em\">1.25</text>\n",
       "    <text x=\"15.11\" y=\"37.23\" text-anchor=\"end\" dy=\"0.35em\">1.50</text>\n",
       "    <text x=\"15.11\" y=\"20.11\" text-anchor=\"end\" dy=\"0.35em\">1.75</text>\n",
       "    <text x=\"15.11\" y=\"3\" text-anchor=\"end\" dy=\"0.35em\">2.00</text>\n",
       "  </g>\n",
       "  <g font-size=\"3.88\" font-family=\"Helvetica\" fill=\"#000000\" stroke=\"#000000\" stroke-opacity=\"0.000\" id=\"img-c61fba06-19\">\n",
       "    <text x=\"4.81\" y=\"43.78\" text-anchor=\"middle\" dy=\"0.35em\" transform=\"rotate(-90, 4.81, 45.78)\">value of function (anonymous function)</text>\n",
       "  </g>\n",
       "</g>\n",
       "<defs>\n",
       "  <clipPath id=\"img-c61fba06-9\">\n",
       "  <path d=\"M16.11,1 L 150.93 1 150.93 90.57 16.11 90.57\" />\n",
       "</clipPath>\n",
       "</defs>\n",
       "</svg>\n"
      ],
      "text/html": [
       "<?xml version=\"1.0\" encoding=\"UTF-8\"?>\n",
       "<svg xmlns=\"http://www.w3.org/2000/svg\"\n",
       "     xmlns:xlink=\"http://www.w3.org/1999/xlink\"\n",
       "     xmlns:gadfly=\"http://www.gadflyjl.org/ns\"\n",
       "     version=\"1.2\"\n",
       "     width=\"158.73mm\" height=\"105.82mm\" viewBox=\"0 0 158.73 105.82\"\n",
       "     stroke=\"none\"\n",
       "     fill=\"#000000\"\n",
       "     stroke-width=\"0.3\"\n",
       "     font-size=\"3.88\"\n",
       ">\n",
       "<g stroke=\"#000000\" stroke-opacity=\"0.000\" fill=\"#FFFFFF\" id=\"img-c61fba06-1\">\n",
       "  <rect x=\"0\" y=\"0\" width=\"158.73\" height=\"105.82\"/>\n",
       "</g>\n",
       "<g class=\"plotroot xscalable yscalable\" id=\"img-c61fba06-2\">\n",
       "  <g font-size=\"3.88\" font-family=\"Helvetica\" fill=\"#000000\" stroke=\"#000000\" stroke-opacity=\"0.000\" id=\"img-c61fba06-3\">\n",
       "    <text x=\"83.52\" y=\"98.2\" text-anchor=\"middle\" dy=\"0.6em\">nobs</text>\n",
       "  </g>\n",
       "  <g class=\"guide xlabels\" font-size=\"2.82\" font-family=\"Helvetica\" fill=\"#000000\" id=\"img-c61fba06-4\">\n",
       "    <text x=\"18.11\" y=\"91.57\" text-anchor=\"middle\" dy=\"0.6em\">0</text>\n",
       "    <text x=\"83.52\" y=\"91.57\" text-anchor=\"middle\" dy=\"0.6em\">500</text>\n",
       "    <text x=\"148.93\" y=\"91.57\" text-anchor=\"middle\" dy=\"0.6em\">1000</text>\n",
       "  </g>\n",
       "  <g class=\"guide colorkey\" id=\"img-c61fba06-5\">\n",
       "    <g fill=\"#000000\" font-size=\"2.82\" font-family=\"Helvetica\" id=\"img-c61fba06-6\">\n",
       "      <text x=\"154.75\" y=\"43.97\" dy=\"0.35em\">y1</text>\n",
       "      <text x=\"154.75\" y=\"47.6\" dy=\"0.35em\">y2</text>\n",
       "      <text x=\"154.75\" y=\"51.23\" dy=\"0.35em\">y3</text>\n",
       "    </g>\n",
       "    <g stroke=\"#000000\" stroke-opacity=\"0.000\" id=\"img-c61fba06-7\">\n",
       "      <rect x=\"151.93\" y=\"43.06\" width=\"1.82\" height=\"1.82\" fill=\"#009AFA\"/>\n",
       "      <rect x=\"151.93\" y=\"46.69\" width=\"1.82\" height=\"1.82\" fill=\"#E36F47\"/>\n",
       "      <rect x=\"151.93\" y=\"50.32\" width=\"1.82\" height=\"1.82\" fill=\"#00A86C\"/>\n",
       "    </g>\n",
       "    <g fill=\"#000000\" font-size=\"3.88\" font-family=\"Helvetica\" stroke=\"#000000\" stroke-opacity=\"0.000\" id=\"img-c61fba06-8\">\n",
       "      <text x=\"151.93\" y=\"40.14\"></text>\n",
       "    </g>\n",
       "  </g>\n",
       "<g clip-path=\"url(#img-c61fba06-9)\">\n",
       "  <g id=\"img-c61fba06-10\">\n",
       "    <g pointer-events=\"visible\" opacity=\"1\" fill=\"#000000\" fill-opacity=\"0.000\" stroke=\"#000000\" stroke-opacity=\"0.000\" class=\"guide background\" id=\"img-c61fba06-11\">\n",
       "      <rect x=\"16.11\" y=\"1\" width=\"134.83\" height=\"89.57\"/>\n",
       "    </g>\n",
       "    <g class=\"guide ygridlines xfixed\" stroke-dasharray=\"0.5,0.5\" stroke-width=\"0.2\" stroke=\"#D0D0E0\" id=\"img-c61fba06-12\">\n",
       "      <path fill=\"none\" d=\"M16.11,88.57 L 150.93 88.57\"/>\n",
       "      <path fill=\"none\" d=\"M16.11,71.45 L 150.93 71.45\"/>\n",
       "      <path fill=\"none\" d=\"M16.11,54.34 L 150.93 54.34\"/>\n",
       "      <path fill=\"none\" d=\"M16.11,37.23 L 150.93 37.23\"/>\n",
       "      <path fill=\"none\" d=\"M16.11,20.11 L 150.93 20.11\"/>\n",
       "      <path fill=\"none\" d=\"M16.11,3 L 150.93 3\"/>\n",
       "    </g>\n",
       "    <g class=\"guide xgridlines yfixed\" stroke-dasharray=\"0.5,0.5\" stroke-width=\"0.2\" stroke=\"#D0D0E0\" id=\"img-c61fba06-13\">\n",
       "      <path fill=\"none\" d=\"M18.11,1 L 18.11 90.57\"/>\n",
       "      <path fill=\"none\" d=\"M83.52,1 L 83.52 90.57\"/>\n",
       "      <path fill=\"none\" d=\"M148.93,1 L 148.93 90.57\"/>\n",
       "    </g>\n",
       "    <g class=\"plotpanel\" id=\"img-c61fba06-14\">\n",
       "      <g stroke-width=\"0.26\" fill=\"#000000\" fill-opacity=\"0.000\" class=\"geometry\" stroke-dasharray=\"none\" stroke=\"#009AFA\" id=\"img-c61fba06-15\">\n",
       "        <path fill=\"none\" d=\"M18.11,16.81 L 19.42 -840.1 20.72 -795.26 22.03 -636.71 23.34 -228.13 24.65 -125.43 25.96 -14 27.27 44.67 28.57 60.38 29.88 69.47 31.19 72.47 32.5 73.02 33.81 72.18 35.11 75.48 36.42 75.15 37.73 76.58 39.04 77.56 40.35 78.99 41.66 79.48 42.96 81.62 44.27 82.31 45.58 83.03 46.89 78.47 48.2 77.98 49.51 79.96 50.81 76.44 52.12 81.54 53.43 79.61 54.74 76.56 56.05 80.19 57.36 79.92 58.66 81.6 59.97 80.33 61.28 82.32 62.59 82.73 63.9 81.07 65.2 78.41 66.51 79.26 67.82 79.62 69.13 81.2 70.44 81.55 71.75 82.26 73.05 79.61 74.36 80.5 75.67 81.29 76.98 80.24 78.29 80.16 79.6 79.9 80.9 83.19 82.21 82.75 83.52 82.34 84.83 82.99 86.14 81.99 87.45 83.33 88.75 83.27 90.06 83.35 91.37 83 92.68 83.24 93.99 83.04 95.29 82.29 96.6 79.63 97.91 82.62 99.22 83.08 100.53 81.62 101.84 82.45 103.14 81.27 104.45 81.06 105.76 82.89 107.07 83.29 108.38 83.68 109.69 83.41 110.99 83.06 112.3 83.32 113.61 82.65 114.92 82.92 116.23 82.88 117.54 82.7 118.84 82.34 120.15 83.5 121.46 83.12 122.77 82.54 124.08 84.18 125.38 84.08 126.69 82.82 128 82.91 129.31 83.16 130.62 83.19 131.93 83.83 133.23 83.6 134.54 83.03 135.85 83.71 137.16 83.55 138.47 83.04 139.78 83.51 141.08 83.99 142.39 83.45 143.7 82.49 145.01 82.57 146.32 81.93 147.63 81.5 148.93 81.29\"/>\n",
       "      </g>\n",
       "      <g stroke-width=\"0.26\" fill=\"#000000\" fill-opacity=\"0.000\" class=\"geometry\" stroke-dasharray=\"none\" stroke=\"#E36F47\" id=\"img-c61fba06-16\">\n",
       "        <path fill=\"none\" d=\"M18.11,16.81 L 19.42 -19.14 20.72 12.91 22.03 34.8 23.34 38.62 24.65 41.93 25.96 52.43 27.27 53.16 28.57 59.79 29.88 58.92 31.19 65.85 32.5 65.14 33.81 68.03 35.11 75.97 36.42 77.09 37.73 79.9 39.04 78.71 40.35 76.55 41.66 78.27 42.96 79.92 44.27 77.53 45.58 80.89 46.89 77.89 48.2 75.52 49.51 78.76 50.81 77.74 52.12 81.83 53.43 78.05 54.74 77.87 56.05 80.84 57.36 81.51 58.66 82.39 59.97 82.88 61.28 82.07 62.59 80.77 63.9 79.31 65.2 80.02 66.51 79.49 67.82 79.21 69.13 82.12 70.44 81.8 71.75 80.69 73.05 79.9 74.36 79.45 75.67 79.89 76.98 78.66 78.29 82.43 79.6 81.25 80.9 82.85 82.21 82.04 83.52 81.19 84.83 82.18 86.14 82.12 87.45 83.22 88.75 83.5 90.06 82.87 91.37 82.56 92.68 83.01 93.99 82.89 95.29 82.49 96.6 81.4 97.91 82.68 99.22 82.52 100.53 80.22 101.84 82.17 103.14 80.87 104.45 81.46 105.76 82.7 107.07 83.2 108.38 84.01 109.69 83.85 110.99 83.48 112.3 83.46 113.61 83.18 114.92 83.72 116.23 82.91 117.54 82.09 118.84 83.19 120.15 83.55 121.46 83.06 122.77 82.74 124.08 83.26 125.38 83.34 126.69 81.63 128 81.91 129.31 82.19 130.62 81.86 131.93 82.53 133.23 83.34 134.54 83.24 135.85 82.9 137.16 82.7 138.47 82.96 139.78 83.32 141.08 82.66 142.39 82.27 143.7 80.01 145.01 81.23 146.32 80.74 147.63 80.04 148.93 80.63\"/>\n",
       "      </g>\n",
       "      <g stroke-width=\"0.26\" fill=\"#000000\" fill-opacity=\"0.000\" class=\"geometry\" stroke-dasharray=\"none\" stroke=\"#00A86C\" id=\"img-c61fba06-17\">\n",
       "        <path fill=\"none\" d=\"M18.11,16.81 L 19.42 -87.18 20.72 -11.3 22.03 15.89 23.34 42.63 24.65 55.16 25.96 65.88 27.27 67.99 28.57 70.03 29.88 72.95 31.19 78.47 32.5 75.43 33.81 72.94 35.11 78 36.42 76.86 37.73 77.64 39.04 78.4 40.35 79.38 41.66 80.3 42.96 82.03 44.27 81.95 45.58 82.88 46.89 78.84 48.2 78.83 49.51 80.36 50.81 76.5 52.12 81.65 53.43 79.69 54.74 77.61 56.05 80.36 57.36 80.18 58.66 81.94 59.97 80.79 61.28 82.41 62.59 82.94 63.9 81.41 65.2 79.4 66.51 80.03 67.82 80.29 69.13 81.83 70.44 81.9 71.75 82.37 73.05 79.69 74.36 80.33 75.67 81.17 76.98 80.05 78.29 80.74 79.6 80.39 80.9 83.15 82.21 82.67 83.52 82.4 84.83 83.06 86.14 82.31 87.45 83.57 88.75 83.29 90.06 83.33 91.37 83.07 92.68 83.33 93.99 83.1 95.29 82.63 96.6 80.48 97.91 83.04 99.22 83.3 100.53 81.98 101.84 82.68 103.14 81.56 104.45 81.38 105.76 82.88 107.07 83.33 108.38 83.76 109.69 83.63 110.99 83.3 112.3 83.45 113.61 82.8 114.92 83.19 116.23 83.17 117.54 83.07 118.84 82.85 120.15 83.77 121.46 83.3 122.77 83.39 124.08 84.27 125.38 84.22 126.69 82.97 128 83.01 129.31 83.13 130.62 83.16 131.93 83.79 133.23 83.65 134.54 83.12 135.85 83.77 137.16 83.6 138.47 83.06 139.78 83.56 141.08 83.97 142.39 83.48 143.7 82.52 145.01 82.63 146.32 82 147.63 81.67 148.93 81.43\"/>\n",
       "      </g>\n",
       "    </g>\n",
       "  </g>\n",
       "</g>\n",
       "  <g class=\"guide ylabels\" font-size=\"2.82\" font-family=\"Helvetica\" fill=\"#000000\" id=\"img-c61fba06-18\">\n",
       "    <text x=\"15.11\" y=\"88.57\" text-anchor=\"end\" dy=\"0.35em\">0.75</text>\n",
       "    <text x=\"15.11\" y=\"71.45\" text-anchor=\"end\" dy=\"0.35em\">1.00</text>\n",
       "    <text x=\"15.11\" y=\"54.34\" text-anchor=\"end\" dy=\"0.35em\">1.25</text>\n",
       "    <text x=\"15.11\" y=\"37.23\" text-anchor=\"end\" dy=\"0.35em\">1.50</text>\n",
       "    <text x=\"15.11\" y=\"20.11\" text-anchor=\"end\" dy=\"0.35em\">1.75</text>\n",
       "    <text x=\"15.11\" y=\"3\" text-anchor=\"end\" dy=\"0.35em\">2.00</text>\n",
       "  </g>\n",
       "  <g font-size=\"3.88\" font-family=\"Helvetica\" fill=\"#000000\" stroke=\"#000000\" stroke-opacity=\"0.000\" id=\"img-c61fba06-19\">\n",
       "    <text x=\"4.81\" y=\"43.78\" text-anchor=\"middle\" dy=\"0.35em\" transform=\"rotate(-90, 4.81, 45.78)\">value of function (anonymous function)</text>\n",
       "  </g>\n",
       "</g>\n",
       "<defs>\n",
       "  <clipPath id=\"img-c61fba06-9\">\n",
       "  <path d=\"M16.11,1 L 150.93 1 150.93 90.57 16.11 90.57\" />\n",
       "</clipPath>\n",
       "</defs>\n",
       "</svg>\n"
      ],
      "text/plain": [
       "Compose.SVG(158.73015873015876mm,105.82010582010584mm,IOBuffer(data=UInt8[...], readable=true, writable=true, seekable=true, append=false, size=8212, maxsize=Inf, ptr=8213, mark=-1),nothing,\"img-c61fba06\",0,Compose.SVGPropertyFrame[],Dict{Type{T},Union{Compose.Property{P<:Compose.PropertyPrimitive},Void}}(Compose.Property{Compose.FillPrimitive}=>nothing),Dict{Compose.ClipPrimitive{P<:NTuple{N,Measures.Measure}},ASCIIString}(Compose.ClipPrimitive{Tuple{Measures.Length{:mm,Float64},Measures.Length{:mm,Float64}}}([(16.107500000000016mm,1.0mm),(150.9334920634921mm,1.0mm),(150.9334920634921mm,90.56593915343916mm),(16.107500000000016mm,90.56593915343916mm)])=>\"img-c61fba06-9\"),Tuple{Compose.FormPrimitive,ASCIIString}[],Set{AbstractString}(),true,false,nothing,true,\"img-c61fba06-19\",false,19,AbstractString[\"/Users/joshday/.julia/v0.4/Gadfly/src/gadfly.js\"],Tuple{AbstractString,AbstractString}[(\"Snap.svg\",\"Snap\"),(\"Gadfly\",\"Gadfly\")],AbstractString[\"fig.select(\\\"#img-c61fba06-5\\\")\\n   .drag(function() {}, function() {}, function() {});\",\"fig.select(\\\"#img-c61fba06-10\\\")\\n   .init_gadfly();\"],false,:none)"
      ]
     },
     "metadata": {},
     "output_type": "display_data"
    },
    {
     "data": {
      "image/png": "[encoded data removed]",
      "image/svg+xml": [],
      "text/plain": [
       "Plot{Plots.GadflyPackage() n=3}"
      ]
     },
     "execution_count": 12,
     "metadata": {},
     "output_type": "execute_result"
    }
   ],
   "source": [
    "plot!(tr.p, ylims = (.75, 2))"
   ]
  },
  {
   "cell_type": "code",
   "execution_count": null,
   "metadata": {
    "collapsed": true
   },
   "outputs": [],
   "source": []
  }
 ],
 "metadata": {
  "celltoolbar": "Slideshow",
  "kernelspec": {
   "display_name": "Julia 0.4.1-pre",
   "language": "julia",
   "name": "julia-0.4"
  },
  "language_info": {
   "file_extension": ".jl",
   "mimetype": "application/julia",
   "name": "julia",
   "version": "0.4.3"
  }
 },
 "nbformat": 4,
 "nbformat_minor": 0
}
