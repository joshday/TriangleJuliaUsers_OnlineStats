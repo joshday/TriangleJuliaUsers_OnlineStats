{
 "cells": [
  {
   "cell_type": "code",
   "execution_count": 33,
   "metadata": {
    "collapsed": true,
    "slideshow": {
     "slide_type": "slide"
    }
   },
   "outputs": [],
   "source": [
    "using OnlineStats, AverageShiftedHistograms, Distributions"
   ]
  },
  {
   "cell_type": "markdown",
   "metadata": {
    "slideshow": {
     "slide_type": "slide"
    }
   },
   "source": [
    "# OnlineStats.jl\n",
    "\n",
    "- Josh Day, NC State Department of Statistics\n",
    "- https://github.com/joshday/\n",
    "- jtday2@ncsu.edu\n",
    "- December 14, 2015"
   ]
  },
  {
   "cell_type": "markdown",
   "metadata": {
    "slideshow": {
     "slide_type": "slide"
    }
   },
   "source": [
    "### Things to Note\n",
    "\n",
    "- I am a statistician\n",
    "- I am a Julia convert from R\n",
    "- This talk will focus on OnlineStats, but I'll also be demonstrating a few things from Plots.jl (@tbreloff) and AverageShiftedHistograms.jl (@joshday)\n",
    "- Some of the syntax I'm using is not yet available in OnlineStats"
   ]
  },
  {
   "cell_type": "markdown",
   "metadata": {
    "slideshow": {
     "slide_type": "slide"
    }
   },
   "source": [
    "### Outline\n",
    "\n",
    "- Introduction/Motivation\n",
    "- Why Julia?\n",
    "- What Can [OnlineStats.jl](https://github.com/joshday/OnlineStats.jl) do?\n",
    "    - Weighting System\n",
    "    - Trace Plots\n",
    "    - Distribution Fitting\n",
    "    - Density Estimation ([AverageShiftedHistograms.jl](https://github.com/joshday/AverageShiftedHistograms.jl))\n",
    "    - Predictive Models with Regularization"
   ]
  },
  {
   "cell_type": "markdown",
   "metadata": {
    "slideshow": {
     "slide_type": "slide"
    }
   },
   "source": [
    "### Introduction and Motivation\n",
    "\n",
    "- OnlineStats.jl is the implementation of my research into online algorithms for statistics.\n",
    "- Observations are processed one by one and all algorithms use O(1) memory.\n",
    "- Why do we need online algorithms for statistics?"
   ]
  },
  {
   "cell_type": "markdown",
   "metadata": {
    "slideshow": {
     "slide_type": "slide"
    }
   },
   "source": [
    "![](http://www.ibmbigdatahub.com/sites/default/files/infographic_file/4-Vs-of-big-data.jpg)"
   ]
  },
  {
   "cell_type": "markdown",
   "metadata": {
    "slideshow": {
     "slide_type": "slide"
    }
   },
   "source": [
    "- Statistical methods in the realms of Volume and Velocity are very limited.  \n",
    "- Adapting methods to these scenarios is nontrivial"
   ]
  },
  {
   "cell_type": "markdown",
   "metadata": {
    "slideshow": {
     "slide_type": "slide"
    }
   },
   "source": [
    "# Why Julia? (vs. R + RCpp)\n",
    "\n",
    "- Speed\n",
    "- Types \n",
    "    - multiple dispatch and abstraction\n",
    "- Developer tools\n",
    "    - `@time`, the greatest thing\n",
    "- Clarity\n",
    "- The Future"
   ]
  },
  {
   "cell_type": "markdown",
   "metadata": {
    "slideshow": {
     "slide_type": "slide"
    }
   },
   "source": [
    "# What Can OnlineStats.jl Do?\n",
    "\n",
    "- http://joshday.github.io/OnlineStats.jl/#what-onlinestats-can-do\n",
    "- OnlineStats aims to cover online algorithms for each major statistical method, from summary statistics to penalized regression.\n",
    "- Some estimates cannot be exact, but many OnlineStats have analytical solutions\n",
    "  - logistic regression (approximate)\n",
    "  - linear regression (analytical)"
   ]
  },
  {
   "cell_type": "code",
   "execution_count": 34,
   "metadata": {
    "collapsed": false,
    "slideshow": {
     "slide_type": "slide"
    }
   },
   "outputs": [],
   "source": [
    "using OnlineStats\n",
    "y = randn(10_000_000);"
   ]
  },
  {
   "cell_type": "code",
   "execution_count": 35,
   "metadata": {
    "collapsed": false,
    "slideshow": {
     "slide_type": "-"
    }
   },
   "outputs": [],
   "source": [
    "o = Mean()\n",
    "fit!(o, y)\n",
    "\n",
    "# Mean(y)"
   ]
  },
  {
   "cell_type": "code",
   "execution_count": 36,
   "metadata": {
    "collapsed": false,
    "slideshow": {
     "slide_type": "-"
    }
   },
   "outputs": [
    {
     "data": {
      "text/plain": [
       "-1.6743300268375755e-17"
      ]
     },
     "execution_count": 36,
     "metadata": {},
     "output_type": "execute_result"
    }
   ],
   "source": [
    "# Does it work?\n",
    "mean(o) - mean(y)"
   ]
  },
  {
   "cell_type": "code",
   "execution_count": 37,
   "metadata": {
    "collapsed": false,
    "slideshow": {
     "slide_type": "slide"
    }
   },
   "outputs": [],
   "source": [
    "using Plots; gadfly()\n",
    "\n",
    "o = Variance()\n",
    "\n",
    "p = plot([0.], [0. 0.], lab = [\"mean\" \"variance\"])\n",
    "anim = Animation()\n",
    "for i in 1:100\n",
    "    fit!(o, randn(10))\n",
    "    push!(p, nobs(o), [mean(o), var(o)]) \n",
    "    frame(anim)\n",
    "end"
   ]
  },
  {
   "cell_type": "code",
   "execution_count": 38,
   "metadata": {
    "collapsed": false,
    "slideshow": {
     "slide_type": "slide"
    }
   },
   "outputs": [
    {
     "name": "stderr",
     "output_type": "stream",
     "text": [
      "INFO: Saved animation to /Users/joshday/github/TriangleJuliaUsers_OnlineStats/TracePlot.gif\n"
     ]
    },
    {
     "data": {
      "text/html": [
       "<img src=\"TracePlot.gif?0.20713167623973816>\" />"
      ],
      "text/plain": [
       "Plots.AnimatedGif(\"/Users/joshday/github/TriangleJuliaUsers_OnlineStats/TracePlot.gif\")"
      ]
     },
     "execution_count": 38,
     "metadata": {},
     "output_type": "execute_result"
    }
   ],
   "source": [
    "# Do mean and variance go to 0 and 1?\n",
    "gif(anim, \"TracePlot.gif\")"
   ]
  },
  {
   "cell_type": "markdown",
   "metadata": {
    "collapsed": true,
    "slideshow": {
     "slide_type": "slide"
    }
   },
   "source": [
    "### Weight Types\n",
    "\n",
    "OnlineStats has multiple weighting schemes built into the backend of every type.  This means new information can be weighted differently from past information.  Users can add their own types or use those built into OnlineStats:\n",
    "\n",
    "- `EqualWeight`\n",
    "- `ExponentialWeight`\n",
    "- `LearningRate`"
   ]
  },
  {
   "cell_type": "markdown",
   "metadata": {
    "slideshow": {
     "slide_type": "slide"
    }
   },
   "source": [
    "Updating a statistic often takes the form of a weighted average:\n",
    "\n",
    "$\\theta^{(t)} = (1 - \\gamma_t)\\theta^{(t-1)} + \\gamma_t (\\; newval \\;), \\quad 0 < \\gamma_t \\le 1$\n",
    "\n",
    "If we are updating observations one-by-one:\n",
    "\n",
    "- `EqualWeight` \n",
    "    - $\\gamma_t = \\frac{1}{t}$\n",
    "- `ExponentialWeight(minstep)` \n",
    "    - uses `EqualWeight` until $\\gamma_t \\le minstep$, then stays constant at `minstep`\n",
    "- `LearningRate(r)` \n",
    "    - $\\gamma_t = \\frac{1}{t^r}$"
   ]
  },
  {
   "cell_type": "markdown",
   "metadata": {
    "slideshow": {
     "slide_type": "slide"
    }
   },
   "source": [
    "- `LearningRate` is mainly used for stochastic gradient descent (SGD) and its variants:\n",
    "\n",
    "$$\\theta^{(t)} = \\theta^{(t-1)} - \\gamma_t \\; g_t$$\n",
    "\n",
    "- SGD is a standard for creating online algorithms for statistical models. "
   ]
  },
  {
   "cell_type": "markdown",
   "metadata": {
    "slideshow": {
     "slide_type": "slide"
    }
   },
   "source": [
    "### `TracePlot`"
   ]
  },
  {
   "cell_type": "code",
   "execution_count": 39,
   "metadata": {
    "collapsed": false
   },
   "outputs": [
    {
     "data": {
      "image/svg+xml": [
       "<?xml version=\"1.0\" encoding=\"UTF-8\"?>\n",
       "<svg xmlns=\"http://www.w3.org/2000/svg\"\n",
       "     xmlns:xlink=\"http://www.w3.org/1999/xlink\"\n",
       "     xmlns:gadfly=\"http://www.gadflyjl.org/ns\"\n",
       "     version=\"1.2\"\n",
       "     width=\"158.73mm\" height=\"105.82mm\" viewBox=\"0 0 158.73 105.82\"\n",
       "     stroke=\"none\"\n",
       "     fill=\"#000000\"\n",
       "     stroke-width=\"0.3\"\n",
       "     font-size=\"3.88\"\n",
       ">\n",
       "<g stroke=\"#000000\" stroke-opacity=\"0.000\" fill=\"#FFFFFF\" id=\"img-bba42002-1\">\n",
       "  <rect x=\"0\" y=\"0\" width=\"158.73\" height=\"105.82\"/>\n",
       "</g>\n",
       "<g class=\"plotroot xscalable yscalable\" id=\"img-bba42002-2\">\n",
       "  <g font-size=\"3.88\" font-family=\"Helvetica\" fill=\"#000000\" stroke=\"#000000\" stroke-opacity=\"0.000\" id=\"img-bba42002-3\">\n",
       "    <text x=\"78.14\" y=\"98.2\" text-anchor=\"middle\" dy=\"0.6em\">nobs</text>\n",
       "  </g>\n",
       "  <g class=\"guide xlabels\" font-size=\"2.82\" font-family=\"Helvetica\" fill=\"#000000\" id=\"img-bba42002-4\">\n",
       "    <text x=\"9.86\" y=\"91.57\" text-anchor=\"middle\" dy=\"0.6em\">0</text>\n",
       "    <text x=\"78.14\" y=\"91.57\" text-anchor=\"middle\" dy=\"0.6em\">5.0×10³</text>\n",
       "    <text x=\"146.43\" y=\"91.57\" text-anchor=\"middle\" dy=\"0.6em\">1.0×10⁴</text>\n",
       "  </g>\n",
       "  <g class=\"guide colorkey\" id=\"img-bba42002-5\">\n",
       "    <g fill=\"#000000\" font-size=\"2.82\" font-family=\"Helvetica\" id=\"img-bba42002-6\">\n",
       "      <text x=\"152.24\" y=\"42.15\" dy=\"0.35em\">0.25</text>\n",
       "      <text x=\"152.24\" y=\"45.78\" dy=\"0.35em\">0.50</text>\n",
       "      <text x=\"152.24\" y=\"49.42\" dy=\"0.35em\">0.75</text>\n",
       "      <text x=\"152.24\" y=\"53.05\" dy=\"0.35em\">y4</text>\n",
       "    </g>\n",
       "    <g stroke=\"#000000\" stroke-opacity=\"0.000\" id=\"img-bba42002-7\">\n",
       "      <rect x=\"149.43\" y=\"41.24\" width=\"1.82\" height=\"1.82\" fill=\"#009AFA\"/>\n",
       "      <rect x=\"149.43\" y=\"44.87\" width=\"1.82\" height=\"1.82\" fill=\"#E36F47\"/>\n",
       "      <rect x=\"149.43\" y=\"48.51\" width=\"1.82\" height=\"1.82\" fill=\"#00A86C\"/>\n",
       "      <rect x=\"149.43\" y=\"52.14\" width=\"1.82\" height=\"1.82\" fill=\"#C371D2\"/>\n",
       "    </g>\n",
       "    <g fill=\"#000000\" font-size=\"3.88\" font-family=\"Helvetica\" stroke=\"#000000\" stroke-opacity=\"0.000\" id=\"img-bba42002-8\">\n",
       "      <text x=\"149.43\" y=\"38.33\"></text>\n",
       "    </g>\n",
       "  </g>\n",
       "<g clip-path=\"url(#img-bba42002-9)\">\n",
       "  <g id=\"img-bba42002-10\">\n",
       "    <g pointer-events=\"visible\" opacity=\"1\" fill=\"#000000\" fill-opacity=\"0.000\" stroke=\"#000000\" stroke-opacity=\"0.000\" class=\"guide background\" id=\"img-bba42002-11\">\n",
       "      <rect x=\"7.86\" y=\"1\" width=\"140.57\" height=\"89.57\"/>\n",
       "    </g>\n",
       "    <g class=\"guide ygridlines xfixed\" stroke-dasharray=\"0.5,0.5\" stroke-width=\"0.2\" stroke=\"#D0D0E0\" id=\"img-bba42002-12\">\n",
       "      <path fill=\"none\" d=\"M7.86,88.57 L 148.43 88.57\"/>\n",
       "      <path fill=\"none\" d=\"M7.86,67.17 L 148.43 67.17\"/>\n",
       "      <path fill=\"none\" d=\"M7.86,45.78 L 148.43 45.78\"/>\n",
       "      <path fill=\"none\" d=\"M7.86,24.39 L 148.43 24.39\"/>\n",
       "      <path fill=\"none\" d=\"M7.86,3 L 148.43 3\"/>\n",
       "    </g>\n",
       "    <g class=\"guide xgridlines yfixed\" stroke-dasharray=\"0.5,0.5\" stroke-width=\"0.2\" stroke=\"#D0D0E0\" id=\"img-bba42002-13\">\n",
       "      <path fill=\"none\" d=\"M9.86,1 L 9.86 90.57\"/>\n",
       "      <path fill=\"none\" d=\"M78.14,1 L 78.14 90.57\"/>\n",
       "      <path fill=\"none\" d=\"M146.43,1 L 146.43 90.57\"/>\n",
       "    </g>\n",
       "    <g class=\"plotpanel\" id=\"img-bba42002-14\">\n",
       "      <g stroke-width=\"0.26\" fill=\"#000000\" fill-opacity=\"0.000\" class=\"geometry\" stroke-dasharray=\"none\" stroke=\"#009AFA\" id=\"img-bba42002-15\">\n",
       "        <path fill=\"none\" d=\"M9.86,45.78 L 11.23 65.78 12.59 67.87 13.96 68.65 15.32 69.6 16.69 69.74 18.05 69.89 19.42 71.03 20.79 71.78 22.15 72.67 23.52 72.31 24.88 71.96 26.25 72.42 27.61 73.95 28.98 73.88 30.35 74.49 31.71 74.24 33.08 74.36 34.44 73.72 35.81 72.98 37.17 73.98 38.54 73.58 39.9 73.22 41.27 73.13 42.64 73.02 44 73.02 45.37 73.11 46.73 73.21 48.1 73.53 49.46 73.2 50.83 73.05 52.2 73.2 53.56 73.54 54.93 73.79 56.29 73.72 57.66 73.92 59.02 74.17 60.39 74.25 61.76 74.33 63.12 74.47 64.49 74.47 65.85 74.38 67.22 74.23 68.58 74.25 69.95 74.47 71.32 74.69 72.68 74.92 74.05 74.89 75.41 74.81 76.78 74.9 78.14 75.37 79.51 75.49 80.87 75.57 82.24 75.57 83.61 75.1 84.97 75.01 86.34 74.96 87.7 74.91 89.07 74.46 90.43 74.4 91.8 74.45 93.17 74.38 94.53 74.4 95.9 74.32 97.26 74.28 98.63 74.09 99.99 74.05 101.36 74.05 102.73 74.08 104.09 74.14 105.46 74.23 106.82 74.23 108.19 74.19 109.55 74.23 110.92 74.28 112.29 74.28 113.65 74.12 115.02 74.3 116.38 74.17 117.75 74.15 119.11 74.18 120.48 74.08 121.84 73.99 123.21 74.11 124.58 74.2 125.94 74.25 127.31 74.44 128.67 74.47 130.04 74.47 131.4 74.4 132.77 74.47 134.14 74.44 135.5 74.43 136.87 74.46 138.23 74.51 139.6 74.46 140.96 74.41 142.33 74.4 143.7 74.51 145.06 74.4 146.43 74.32\"/>\n",
       "      </g>\n",
       "      <g stroke-width=\"0.26\" fill=\"#000000\" fill-opacity=\"0.000\" class=\"geometry\" stroke-dasharray=\"none\" stroke=\"#E36F47\" id=\"img-bba42002-16\">\n",
       "        <path fill=\"none\" d=\"M9.86,45.78 L 11.23 43.01 12.59 41.83 13.96 41.49 15.32 41.23 16.69 41.65 18.05 42 19.42 42.76 20.79 43.8 22.15 46.32 23.52 45.53 24.88 44.62 26.25 44.48 27.61 45.93 28.98 45.77 30.35 45.91 31.71 45.74 33.08 45.89 34.44 45.95 35.81 45.12 37.17 45.54 38.54 45.86 39.9 45.57 41.27 45.56 42.64 45.51 44 45.49 45.37 45.42 46.73 45.35 48.1 45.68 49.46 45.36 50.83 45.28 52.2 45.66 53.56 45.71 54.93 45.88 56.29 45.64 57.66 45.76 59.02 46.43 60.39 46.52 61.76 46.76 63.12 47.14 64.49 47.03 65.85 46.88 67.22 46.62 68.58 46.55 69.95 46.67 71.32 46.83 72.68 46.9 74.05 46.81 75.41 46.63 76.78 46.51 78.14 46.85 79.51 46.96 80.87 47.1 82.24 46.97 83.61 46.94 84.97 46.75 86.34 46.53 87.7 46.53 89.07 46.17 90.43 46.16 91.8 46.17 93.17 46.19 94.53 46.16 95.9 46.13 97.26 46.04 98.63 45.95 99.99 46.02 101.36 46.03 102.73 46.03 104.09 46.04 105.46 46.03 106.82 46.02 108.19 46.01 109.55 46.03 110.92 46.05 112.29 46.06 113.65 46 115.02 46 116.38 46.03 117.75 46.05 119.11 46.1 120.48 46.12 121.84 46.11 123.21 46.14 124.58 46.19 125.94 46.22 127.31 46.26 128.67 46.51 130.04 46.55 131.4 46.58 132.77 46.53 134.14 46.38 135.5 46.27 136.87 46.21 138.23 46.38 139.6 46.49 140.96 46.31 142.33 46.38 143.7 46.49 145.06 46.3 146.43 46.25\"/>\n",
       "      </g>\n",
       "      <g stroke-width=\"0.26\" fill=\"#000000\" fill-opacity=\"0.000\" class=\"geometry\" stroke-dasharray=\"none\" stroke=\"#00A86C\" id=\"img-bba42002-17\">\n",
       "        <path fill=\"none\" d=\"M9.86,45.78 L 11.23 18.71 12.59 16.37 13.96 14.7 15.32 12.13 16.69 11.44 18.05 12.13 19.42 13.08 20.79 13.17 22.15 14.82 23.52 15.45 24.88 14.85 26.25 15.27 27.61 15.6 28.98 15 30.35 16.15 31.71 15.96 33.08 15.8 34.44 16.19 35.81 16.01 37.17 16.26 38.54 16.35 39.9 16.28 41.27 16.27 42.64 16.24 44 15.64 45.37 15.21 46.73 15.4 48.1 15.53 49.46 15.36 50.83 15.5 52.2 16.21 53.56 15.92 54.93 16.02 56.29 16.1 57.66 16.45 59.02 16.8 60.39 16.81 61.76 16.82 63.12 16.92 64.49 17.05 65.85 16.82 67.22 16.8 68.58 16.61 69.95 16.8 71.32 17.01 72.68 16.98 74.05 16.74 75.41 16.56 76.78 16.59 78.14 16.81 79.51 16.81 80.87 16.9 82.24 16.73 83.61 16.73 84.97 16.42 86.34 16.57 87.7 16.28 89.07 16.05 90.43 15.98 91.8 16.05 93.17 16.01 94.53 15.91 95.9 15.87 97.26 15.91 98.63 15.63 99.99 15.76 101.36 15.73 102.73 15.88 104.09 15.95 105.46 15.96 106.82 15.92 108.19 15.76 109.55 16.01 110.92 16.07 112.29 16.26 113.65 16.23 115.02 16.43 116.38 16.51 117.75 16.51 119.11 16.51 120.48 16.68 121.84 16.94 123.21 16.93 124.58 16.89 125.94 16.91 127.31 16.99 128.67 17.08 130.04 17.17 131.4 17.21 132.77 17.32 134.14 17.39 135.5 17.21 136.87 17.16 138.23 17.36 139.6 17.42 140.96 17.39 142.33 17.56 143.7 17.59 145.06 17.3 146.43 17.33\"/>\n",
       "      </g>\n",
       "      <g class=\"xfixed\" stroke-dasharray=\"none\" stroke-width=\"0.26\" stroke=\"#C371D2\" id=\"img-bba42002-18\">\n",
       "        <path fill=\"none\" d=\"M7.86,74.64 L 148.43 74.64\"/>\n",
       "        <path fill=\"none\" d=\"M7.86,45.78 L 148.43 45.78\"/>\n",
       "        <path fill=\"none\" d=\"M7.86,16.93 L 148.43 16.93\"/>\n",
       "      </g>\n",
       "    </g>\n",
       "  </g>\n",
       "</g>\n",
       "  <g class=\"guide ylabels\" font-size=\"2.82\" font-family=\"Helvetica\" fill=\"#000000\" id=\"img-bba42002-19\">\n",
       "    <text x=\"6.86\" y=\"88.57\" text-anchor=\"end\" dy=\"0.35em\">-1.0</text>\n",
       "    <text x=\"6.86\" y=\"67.17\" text-anchor=\"end\" dy=\"0.35em\">-0.5</text>\n",
       "    <text x=\"6.86\" y=\"45.78\" text-anchor=\"end\" dy=\"0.35em\">0.0</text>\n",
       "    <text x=\"6.86\" y=\"24.39\" text-anchor=\"end\" dy=\"0.35em\">0.5</text>\n",
       "    <text x=\"6.86\" y=\"3\" text-anchor=\"end\" dy=\"0.35em\">1.0</text>\n",
       "  </g>\n",
       "</g>\n",
       "<defs>\n",
       "  <clipPath id=\"img-bba42002-9\">\n",
       "  <path d=\"M7.86,1 L 148.43 1 148.43 90.57 7.86 90.57\" />\n",
       "</clipPath>\n",
       "</defs>\n",
       "</svg>\n"
      ],
      "text/html": [
       "<?xml version=\"1.0\" encoding=\"UTF-8\"?>\n",
       "<svg xmlns=\"http://www.w3.org/2000/svg\"\n",
       "     xmlns:xlink=\"http://www.w3.org/1999/xlink\"\n",
       "     xmlns:gadfly=\"http://www.gadflyjl.org/ns\"\n",
       "     version=\"1.2\"\n",
       "     width=\"158.73mm\" height=\"105.82mm\" viewBox=\"0 0 158.73 105.82\"\n",
       "     stroke=\"none\"\n",
       "     fill=\"#000000\"\n",
       "     stroke-width=\"0.3\"\n",
       "     font-size=\"3.88\"\n",
       ">\n",
       "<g stroke=\"#000000\" stroke-opacity=\"0.000\" fill=\"#FFFFFF\" id=\"img-bba42002-1\">\n",
       "  <rect x=\"0\" y=\"0\" width=\"158.73\" height=\"105.82\"/>\n",
       "</g>\n",
       "<g class=\"plotroot xscalable yscalable\" id=\"img-bba42002-2\">\n",
       "  <g font-size=\"3.88\" font-family=\"Helvetica\" fill=\"#000000\" stroke=\"#000000\" stroke-opacity=\"0.000\" id=\"img-bba42002-3\">\n",
       "    <text x=\"78.14\" y=\"98.2\" text-anchor=\"middle\" dy=\"0.6em\">nobs</text>\n",
       "  </g>\n",
       "  <g class=\"guide xlabels\" font-size=\"2.82\" font-family=\"Helvetica\" fill=\"#000000\" id=\"img-bba42002-4\">\n",
       "    <text x=\"9.86\" y=\"91.57\" text-anchor=\"middle\" dy=\"0.6em\">0</text>\n",
       "    <text x=\"78.14\" y=\"91.57\" text-anchor=\"middle\" dy=\"0.6em\">5.0×10³</text>\n",
       "    <text x=\"146.43\" y=\"91.57\" text-anchor=\"middle\" dy=\"0.6em\">1.0×10⁴</text>\n",
       "  </g>\n",
       "  <g class=\"guide colorkey\" id=\"img-bba42002-5\">\n",
       "    <g fill=\"#000000\" font-size=\"2.82\" font-family=\"Helvetica\" id=\"img-bba42002-6\">\n",
       "      <text x=\"152.24\" y=\"42.15\" dy=\"0.35em\">0.25</text>\n",
       "      <text x=\"152.24\" y=\"45.78\" dy=\"0.35em\">0.50</text>\n",
       "      <text x=\"152.24\" y=\"49.42\" dy=\"0.35em\">0.75</text>\n",
       "      <text x=\"152.24\" y=\"53.05\" dy=\"0.35em\">y4</text>\n",
       "    </g>\n",
       "    <g stroke=\"#000000\" stroke-opacity=\"0.000\" id=\"img-bba42002-7\">\n",
       "      <rect x=\"149.43\" y=\"41.24\" width=\"1.82\" height=\"1.82\" fill=\"#009AFA\"/>\n",
       "      <rect x=\"149.43\" y=\"44.87\" width=\"1.82\" height=\"1.82\" fill=\"#E36F47\"/>\n",
       "      <rect x=\"149.43\" y=\"48.51\" width=\"1.82\" height=\"1.82\" fill=\"#00A86C\"/>\n",
       "      <rect x=\"149.43\" y=\"52.14\" width=\"1.82\" height=\"1.82\" fill=\"#C371D2\"/>\n",
       "    </g>\n",
       "    <g fill=\"#000000\" font-size=\"3.88\" font-family=\"Helvetica\" stroke=\"#000000\" stroke-opacity=\"0.000\" id=\"img-bba42002-8\">\n",
       "      <text x=\"149.43\" y=\"38.33\"></text>\n",
       "    </g>\n",
       "  </g>\n",
       "<g clip-path=\"url(#img-bba42002-9)\">\n",
       "  <g id=\"img-bba42002-10\">\n",
       "    <g pointer-events=\"visible\" opacity=\"1\" fill=\"#000000\" fill-opacity=\"0.000\" stroke=\"#000000\" stroke-opacity=\"0.000\" class=\"guide background\" id=\"img-bba42002-11\">\n",
       "      <rect x=\"7.86\" y=\"1\" width=\"140.57\" height=\"89.57\"/>\n",
       "    </g>\n",
       "    <g class=\"guide ygridlines xfixed\" stroke-dasharray=\"0.5,0.5\" stroke-width=\"0.2\" stroke=\"#D0D0E0\" id=\"img-bba42002-12\">\n",
       "      <path fill=\"none\" d=\"M7.86,88.57 L 148.43 88.57\"/>\n",
       "      <path fill=\"none\" d=\"M7.86,67.17 L 148.43 67.17\"/>\n",
       "      <path fill=\"none\" d=\"M7.86,45.78 L 148.43 45.78\"/>\n",
       "      <path fill=\"none\" d=\"M7.86,24.39 L 148.43 24.39\"/>\n",
       "      <path fill=\"none\" d=\"M7.86,3 L 148.43 3\"/>\n",
       "    </g>\n",
       "    <g class=\"guide xgridlines yfixed\" stroke-dasharray=\"0.5,0.5\" stroke-width=\"0.2\" stroke=\"#D0D0E0\" id=\"img-bba42002-13\">\n",
       "      <path fill=\"none\" d=\"M9.86,1 L 9.86 90.57\"/>\n",
       "      <path fill=\"none\" d=\"M78.14,1 L 78.14 90.57\"/>\n",
       "      <path fill=\"none\" d=\"M146.43,1 L 146.43 90.57\"/>\n",
       "    </g>\n",
       "    <g class=\"plotpanel\" id=\"img-bba42002-14\">\n",
       "      <g stroke-width=\"0.26\" fill=\"#000000\" fill-opacity=\"0.000\" class=\"geometry\" stroke-dasharray=\"none\" stroke=\"#009AFA\" id=\"img-bba42002-15\">\n",
       "        <path fill=\"none\" d=\"M9.86,45.78 L 11.23 65.78 12.59 67.87 13.96 68.65 15.32 69.6 16.69 69.74 18.05 69.89 19.42 71.03 20.79 71.78 22.15 72.67 23.52 72.31 24.88 71.96 26.25 72.42 27.61 73.95 28.98 73.88 30.35 74.49 31.71 74.24 33.08 74.36 34.44 73.72 35.81 72.98 37.17 73.98 38.54 73.58 39.9 73.22 41.27 73.13 42.64 73.02 44 73.02 45.37 73.11 46.73 73.21 48.1 73.53 49.46 73.2 50.83 73.05 52.2 73.2 53.56 73.54 54.93 73.79 56.29 73.72 57.66 73.92 59.02 74.17 60.39 74.25 61.76 74.33 63.12 74.47 64.49 74.47 65.85 74.38 67.22 74.23 68.58 74.25 69.95 74.47 71.32 74.69 72.68 74.92 74.05 74.89 75.41 74.81 76.78 74.9 78.14 75.37 79.51 75.49 80.87 75.57 82.24 75.57 83.61 75.1 84.97 75.01 86.34 74.96 87.7 74.91 89.07 74.46 90.43 74.4 91.8 74.45 93.17 74.38 94.53 74.4 95.9 74.32 97.26 74.28 98.63 74.09 99.99 74.05 101.36 74.05 102.73 74.08 104.09 74.14 105.46 74.23 106.82 74.23 108.19 74.19 109.55 74.23 110.92 74.28 112.29 74.28 113.65 74.12 115.02 74.3 116.38 74.17 117.75 74.15 119.11 74.18 120.48 74.08 121.84 73.99 123.21 74.11 124.58 74.2 125.94 74.25 127.31 74.44 128.67 74.47 130.04 74.47 131.4 74.4 132.77 74.47 134.14 74.44 135.5 74.43 136.87 74.46 138.23 74.51 139.6 74.46 140.96 74.41 142.33 74.4 143.7 74.51 145.06 74.4 146.43 74.32\"/>\n",
       "      </g>\n",
       "      <g stroke-width=\"0.26\" fill=\"#000000\" fill-opacity=\"0.000\" class=\"geometry\" stroke-dasharray=\"none\" stroke=\"#E36F47\" id=\"img-bba42002-16\">\n",
       "        <path fill=\"none\" d=\"M9.86,45.78 L 11.23 43.01 12.59 41.83 13.96 41.49 15.32 41.23 16.69 41.65 18.05 42 19.42 42.76 20.79 43.8 22.15 46.32 23.52 45.53 24.88 44.62 26.25 44.48 27.61 45.93 28.98 45.77 30.35 45.91 31.71 45.74 33.08 45.89 34.44 45.95 35.81 45.12 37.17 45.54 38.54 45.86 39.9 45.57 41.27 45.56 42.64 45.51 44 45.49 45.37 45.42 46.73 45.35 48.1 45.68 49.46 45.36 50.83 45.28 52.2 45.66 53.56 45.71 54.93 45.88 56.29 45.64 57.66 45.76 59.02 46.43 60.39 46.52 61.76 46.76 63.12 47.14 64.49 47.03 65.85 46.88 67.22 46.62 68.58 46.55 69.95 46.67 71.32 46.83 72.68 46.9 74.05 46.81 75.41 46.63 76.78 46.51 78.14 46.85 79.51 46.96 80.87 47.1 82.24 46.97 83.61 46.94 84.97 46.75 86.34 46.53 87.7 46.53 89.07 46.17 90.43 46.16 91.8 46.17 93.17 46.19 94.53 46.16 95.9 46.13 97.26 46.04 98.63 45.95 99.99 46.02 101.36 46.03 102.73 46.03 104.09 46.04 105.46 46.03 106.82 46.02 108.19 46.01 109.55 46.03 110.92 46.05 112.29 46.06 113.65 46 115.02 46 116.38 46.03 117.75 46.05 119.11 46.1 120.48 46.12 121.84 46.11 123.21 46.14 124.58 46.19 125.94 46.22 127.31 46.26 128.67 46.51 130.04 46.55 131.4 46.58 132.77 46.53 134.14 46.38 135.5 46.27 136.87 46.21 138.23 46.38 139.6 46.49 140.96 46.31 142.33 46.38 143.7 46.49 145.06 46.3 146.43 46.25\"/>\n",
       "      </g>\n",
       "      <g stroke-width=\"0.26\" fill=\"#000000\" fill-opacity=\"0.000\" class=\"geometry\" stroke-dasharray=\"none\" stroke=\"#00A86C\" id=\"img-bba42002-17\">\n",
       "        <path fill=\"none\" d=\"M9.86,45.78 L 11.23 18.71 12.59 16.37 13.96 14.7 15.32 12.13 16.69 11.44 18.05 12.13 19.42 13.08 20.79 13.17 22.15 14.82 23.52 15.45 24.88 14.85 26.25 15.27 27.61 15.6 28.98 15 30.35 16.15 31.71 15.96 33.08 15.8 34.44 16.19 35.81 16.01 37.17 16.26 38.54 16.35 39.9 16.28 41.27 16.27 42.64 16.24 44 15.64 45.37 15.21 46.73 15.4 48.1 15.53 49.46 15.36 50.83 15.5 52.2 16.21 53.56 15.92 54.93 16.02 56.29 16.1 57.66 16.45 59.02 16.8 60.39 16.81 61.76 16.82 63.12 16.92 64.49 17.05 65.85 16.82 67.22 16.8 68.58 16.61 69.95 16.8 71.32 17.01 72.68 16.98 74.05 16.74 75.41 16.56 76.78 16.59 78.14 16.81 79.51 16.81 80.87 16.9 82.24 16.73 83.61 16.73 84.97 16.42 86.34 16.57 87.7 16.28 89.07 16.05 90.43 15.98 91.8 16.05 93.17 16.01 94.53 15.91 95.9 15.87 97.26 15.91 98.63 15.63 99.99 15.76 101.36 15.73 102.73 15.88 104.09 15.95 105.46 15.96 106.82 15.92 108.19 15.76 109.55 16.01 110.92 16.07 112.29 16.26 113.65 16.23 115.02 16.43 116.38 16.51 117.75 16.51 119.11 16.51 120.48 16.68 121.84 16.94 123.21 16.93 124.58 16.89 125.94 16.91 127.31 16.99 128.67 17.08 130.04 17.17 131.4 17.21 132.77 17.32 134.14 17.39 135.5 17.21 136.87 17.16 138.23 17.36 139.6 17.42 140.96 17.39 142.33 17.56 143.7 17.59 145.06 17.3 146.43 17.33\"/>\n",
       "      </g>\n",
       "      <g class=\"xfixed\" stroke-dasharray=\"none\" stroke-width=\"0.26\" stroke=\"#C371D2\" id=\"img-bba42002-18\">\n",
       "        <path fill=\"none\" d=\"M7.86,74.64 L 148.43 74.64\"/>\n",
       "        <path fill=\"none\" d=\"M7.86,45.78 L 148.43 45.78\"/>\n",
       "        <path fill=\"none\" d=\"M7.86,16.93 L 148.43 16.93\"/>\n",
       "      </g>\n",
       "    </g>\n",
       "  </g>\n",
       "</g>\n",
       "  <g class=\"guide ylabels\" font-size=\"2.82\" font-family=\"Helvetica\" fill=\"#000000\" id=\"img-bba42002-19\">\n",
       "    <text x=\"6.86\" y=\"88.57\" text-anchor=\"end\" dy=\"0.35em\">-1.0</text>\n",
       "    <text x=\"6.86\" y=\"67.17\" text-anchor=\"end\" dy=\"0.35em\">-0.5</text>\n",
       "    <text x=\"6.86\" y=\"45.78\" text-anchor=\"end\" dy=\"0.35em\">0.0</text>\n",
       "    <text x=\"6.86\" y=\"24.39\" text-anchor=\"end\" dy=\"0.35em\">0.5</text>\n",
       "    <text x=\"6.86\" y=\"3\" text-anchor=\"end\" dy=\"0.35em\">1.0</text>\n",
       "  </g>\n",
       "</g>\n",
       "<defs>\n",
       "  <clipPath id=\"img-bba42002-9\">\n",
       "  <path d=\"M7.86,1 L 148.43 1 148.43 90.57 7.86 90.57\" />\n",
       "</clipPath>\n",
       "</defs>\n",
       "</svg>\n"
      ],
      "text/plain": [
       "Compose.SVG(158.73015873015876mm,105.82010582010584mm,IOBuffer(data=UInt8[...], readable=true, writable=true, seekable=true, append=false, size=8206, maxsize=Inf, ptr=8207, mark=-1),nothing,\"img-bba42002\",0,Compose.SVGPropertyFrame[],Dict{Type{T},Union{Compose.Property{P<:Compose.PropertyPrimitive},Void}}(Compose.Property{Compose.FillPrimitive}=>nothing),Dict{Compose.ClipPrimitive{P<:NTuple{N,Measures.Measure}},ASCIIString}(Compose.ClipPrimitive{Tuple{Measures.Length{:mm,Float64},Measures.Length{:mm,Float64}}}([(7.860000000000014mm,1.0mm),(148.42682539682545mm,1.0mm),(148.42682539682545mm,90.56593915343917mm),(7.860000000000014mm,90.56593915343917mm)])=>\"img-bba42002-9\"),Tuple{Compose.FormPrimitive,ASCIIString}[],Set{AbstractString}(),true,false,nothing,true,\"img-bba42002-19\",false,19,AbstractString[\"/Users/joshday/.julia/v0.4/Gadfly/src/gadfly.js\"],Tuple{AbstractString,AbstractString}[(\"Snap.svg\",\"Snap\"),(\"Gadfly\",\"Gadfly\")],AbstractString[\"fig.select(\\\"#img-bba42002-5\\\")\\n   .drag(function() {}, function() {}, function() {});\",\"fig.select(\\\"#img-bba42002-10\\\")\\n   .init_gadfly();\"],false,:none)"
      ]
     },
     "metadata": {},
     "output_type": "display_data"
    },
    {
     "data": {
      "image/png": "[encoded data removed]",
      "image/svg+xml": [],
      "text/plain": [
       "Plot{Plots.GadflyPackage() n=4}"
      ]
     },
     "execution_count": 39,
     "metadata": {},
     "output_type": "execute_result"
    }
   ],
   "source": [
    "o = QuantileMM(LearningRate(.7))  # Online MM Algorithm for quantiles\n",
    "tr = TracePlot(o, value, xlab = \"nobs\", lab = [\"0.25\" \"0.50\" \"0.75\"])\n",
    "for i in 1:100 \n",
    "    fit!(tr, randn(100)) \n",
    "end\n",
    "plot(tr);  hline!(quantile(Normal(), [.25, .5, .75]))"
   ]
  },
  {
   "cell_type": "markdown",
   "metadata": {
    "slideshow": {
     "slide_type": "slide"
    }
   },
   "source": [
    "### Distribution Fitting\n",
    "\n",
    "Fitting specific distributions to data is available through the `FitDistribution` and `FitMvDistribution` types.  Most common types from the Distributions package are covered."
   ]
  },
  {
   "cell_type": "code",
   "execution_count": 41,
   "metadata": {
    "collapsed": false,
    "slideshow": {
     "slide_type": "slide"
    }
   },
   "outputs": [
    {
     "name": "stdout",
     "output_type": "stream",
     "text": [
      "  "
     ]
    },
    {
     "data": {
      "text/plain": [
       "▌ FitDistribution \n",
       " •    value: Distributions.Categorical(K=4, p=[0.2499538,0.2500485,0.250097,0.2499007])\n",
       " •     nobs: 10000000\n"
      ]
     },
     "execution_count": 41,
     "metadata": {},
     "output_type": "execute_result"
    },
    {
     "name": "stdout",
     "output_type": "stream",
     "text": [
      "0.075115 seconds (18 allocations: 1.172 KB)\n"
     ]
    }
   ],
   "source": [
    "using Distributions\n",
    "y2 = rand(Categorical([.25, .25, .25, .25]), 10_000_000)\n",
    "@time FitDistribution(Categorical, y2)"
   ]
  },
  {
   "cell_type": "code",
   "execution_count": 42,
   "metadata": {
    "collapsed": false,
    "scrolled": true,
    "slideshow": {
     "slide_type": "slide"
    }
   },
   "outputs": [
    {
     "name": "stdout",
     "output_type": "stream",
     "text": [
      "  "
     ]
    },
    {
     "data": {
      "text/plain": [
       "▌ FitMvDistribution \n",
       " •    value: FullNormal(\n",
       "dim: 5\n",
       "μ: [-0.00021180751243377223,-0.002607157525942286,-0.0025350387190051266,0.00884264857567306,-0.009871047454628069]\n",
       "Σ: 5x5 Array{Float64,2}:\n",
       "  1.00431      -0.00247396   -0.000382594  -0.00423295    0.00211937 \n",
       " -0.00247396    0.991755     -0.0014303     0.00398597   -0.000470851\n",
       " -0.000382594  -0.0014303     1.00485      -0.000251319  -0.00427421 \n",
       " -0.00423295    0.00398597   -0.000251319   1.00316      -0.000979665\n",
       "  0.00211937   -0.000470851  -0.00427421   -0.000979665   1.00644    \n",
       ")\n",
       "\n",
       " •     nobs: 100000\n"
      ]
     },
     "execution_count": 42,
     "metadata": {},
     "output_type": "execute_result"
    },
    {
     "name": "stdout",
     "output_type": "stream",
     "text": [
      "0.009756 seconds (100.03 k allocations: 4.580 MB)\n"
     ]
    }
   ],
   "source": [
    "y2 = rand(MvNormal(zeros(5), eye(5)), 100_000)'\n",
    "@time FitMvDistribution(MvNormal, y2)"
   ]
  },
  {
   "cell_type": "markdown",
   "metadata": {
    "slideshow": {
     "slide_type": "slide"
    }
   },
   "source": [
    "### Density Estimation with `AverageShiftedHistograms.jl`\n",
    "\n",
    "- An Average Shifted Histogram is essentially a kernel density estimator using a fine-partition histogram instead of individual observations.  \n",
    "- While you lose information by using ASH vs. KDE, complexity of the estimation doesn't grow with $n$."
   ]
  },
  {
   "cell_type": "code",
   "execution_count": 43,
   "metadata": {
    "collapsed": false,
    "slideshow": {
     "slide_type": "slide"
    }
   },
   "outputs": [],
   "source": [
    "using AverageShiftedHistograms\n",
    "a = ash(y[1:10], -5:.1:5, m = 5)\n",
    "p = plot(a.rng, a.y, ylims = (0, .5), xlab = \"nobs: $(nobs(a))\")\n",
    "δ = a.rng.step / a.rng.divisor\n",
    "plot!(a.rng, a.v / sum(δ * a.v), t = :step)\n",
    "plot!(x -> pdf(Normal(), x), -4, 4)\n",
    "\n",
    "rng = 11:20\n",
    "anim = Animation()\n",
    "frame(anim)\n",
    "for i in 1:200\n",
    "    fit!(a, y[rng], warnout = false)\n",
    "    p2 = plot(a.rng, a.y, ylims = (0,.5), xlab = \"nobs: $(nobs(a))\")\n",
    "    plot!(a.rng, a.v / sum(δ * a.v), t = :step)\n",
    "    plot!(x -> pdf(Normal(), x), -4, 4)\n",
    "    p.o = p2.o\n",
    "    frame(anim)\n",
    "    rng += 10\n",
    "end"
   ]
  },
  {
   "cell_type": "code",
   "execution_count": 44,
   "metadata": {
    "collapsed": false,
    "slideshow": {
     "slide_type": "slide"
    }
   },
   "outputs": [
    {
     "name": "stderr",
     "output_type": "stream",
     "text": [
      "INFO: Saved animation to /Users/joshday/github/TriangleJuliaUsers_OnlineStats/ASH.gif\n"
     ]
    },
    {
     "data": {
      "text/html": [
       "<img src=\"ASH.gif?0.6921320989230424>\" />"
      ],
      "text/plain": [
       "Plots.AnimatedGif(\"/Users/joshday/github/TriangleJuliaUsers_OnlineStats/ASH.gif\")"
      ]
     },
     "execution_count": 44,
     "metadata": {},
     "output_type": "execute_result"
    }
   ],
   "source": [
    "gif(anim, \"ASH.gif\")"
   ]
  },
  {
   "cell_type": "markdown",
   "metadata": {
    "slideshow": {
     "slide_type": "slide"
    }
   },
   "source": [
    "### Predictive Models with Regularization\n",
    "\n",
    "Objective:  $$\\text{minimize } L(\\beta) = f(\\beta) + \\lambda g(\\beta)$$\n",
    "\n",
    "\n",
    "- Linear Regression: $f(\\beta) = (y - x\\beta)^T(y-x\\beta)$\n",
    "- Logistic Regression: $f(\\beta) = -\\sum\\left[y_i x_i^T\\beta - \\ln(1 + e^{x_i^T\\beta})\\right]$\n",
    "\n",
    "\n",
    "- Ridge Penalty: $g(\\beta) = \\sum \\beta_i^2$\n",
    "- LASSO Penalty: $g(\\beta) = \\sum |\\beta_i|$"
   ]
  },
  {
   "cell_type": "markdown",
   "metadata": {
    "slideshow": {
     "slide_type": "slide"
    }
   },
   "source": [
    "This framework is done through the `StatLearn` (statistical learning) type.\n",
    "\n",
    "The building blocks of which are:\n",
    "\n",
    "- `ModelDef`\n",
    "    - Model definition, specifies link and loss functions\n",
    "- `Penalty`\n",
    "- `Algorithm` "
   ]
  },
  {
   "cell_type": "markdown",
   "metadata": {
    "slideshow": {
     "slide_type": "slide"
    }
   },
   "source": [
    "### `ModelDef`\n",
    "\n",
    "- `L2Regression()`\n",
    "- `L1Regression()`\n",
    "- `LogisticRegression()`\n",
    "- `PoissonRegression()`\n",
    "- `QuantileRegression(tau)`\n",
    "- `HuberRegression(delta)`\n",
    "- `SVMLike()`"
   ]
  },
  {
   "cell_type": "markdown",
   "metadata": {
    "slideshow": {
     "slide_type": "slide"
    }
   },
   "source": [
    "### Penalty\n",
    "\n",
    "- `NoPenalty()`\n",
    "- `L2Penalty()` (Ridge)\n",
    "- `L1Penalty()` (LASSO)\n",
    "- `ElasticNetPenalty(a)` (weighted avg. of ridge and LASSO)\n",
    "- `SCADPenalty(a)` (smoothly clipped absolute deviation)"
   ]
  },
  {
   "cell_type": "markdown",
   "metadata": {
    "slideshow": {
     "slide_type": "slide"
    }
   },
   "source": [
    "Penalties are currently handled by the prox operator:\n",
    "\n",
    "$$\\text{prox}_g(\\theta) = \\text{argmin}_u \\left( g(u) + \\frac{1}{2}\\|u - \\theta\\|_2^2\\right)$$\n",
    "\n",
    "The intuition is a tradeoff between minimizing $g$ and remaining \"close\" to $\\theta$."
   ]
  },
  {
   "cell_type": "markdown",
   "metadata": {
    "slideshow": {
     "slide_type": "slide"
    }
   },
   "source": [
    "### Algorithm\n",
    "\n",
    "- `SGD()` (stochastic gradient descent)\n",
    "- `AdaGrad()` (self-tuning weights, ignores `Weight`)\n",
    "- `RDA()` (regularized dual averaging)\n",
    "- `MMGrad()` (online MM Gradient)\n",
    "- `AdaMMGrad()` (self-tuning weights, ignores `Weight`)"
   ]
  },
  {
   "cell_type": "markdown",
   "metadata": {
    "slideshow": {
     "slide_type": "slide"
    }
   },
   "source": [
    "### Tangent about MM Algorithm\n",
    "\n",
    "For a difficult-to-minimize objective, create a series of surrogate objectives that are easy to minimize.\n",
    "\n",
    "![](mm_vis4.pdf)"
   ]
  },
  {
   "cell_type": "code",
   "execution_count": 12,
   "metadata": {
    "collapsed": false,
    "slideshow": {
     "slide_type": "slide"
    }
   },
   "outputs": [],
   "source": [
    "# generate some data\n",
    "n, p = 1_000, 10\n",
    "x = randn(n, p)\n",
    "β = collect(linspace(-1, 1, p))\n",
    "y = x*β + randn(n);\n",
    "\n",
    "# Compare models\n",
    "o1 = StatLearn(p, model = L2Regression())\n",
    "o2 = StatLearn(p, model = L1Regression())\n",
    "o3 = StatLearn(p, model = HuberRegression(2.0))\n",
    "\n",
    "tr = CompareTracePlot([o1, o2, o3], o -> mean(abs(y - predict(o,x))))\n",
    "rng = 1:10\n",
    "\n",
    "for i in 1:100\n",
    "    yi = y[rng] \n",
    "    xi = x[rng, :]\n",
    "    fit!(tr, xi, yi)\n",
    "    rng += 10\n",
    "end"
   ]
  },
  {
   "cell_type": "code",
   "execution_count": 13,
   "metadata": {
    "collapsed": false,
    "slideshow": {
     "slide_type": "slide"
    }
   },
   "outputs": [
    {
     "data": {
      "image/svg+xml": [
       "<?xml version=\"1.0\" encoding=\"UTF-8\"?>\n",
       "<svg xmlns=\"http://www.w3.org/2000/svg\"\n",
       "     xmlns:xlink=\"http://www.w3.org/1999/xlink\"\n",
       "     xmlns:gadfly=\"http://www.gadflyjl.org/ns\"\n",
       "     version=\"1.2\"\n",
       "     width=\"158.73mm\" height=\"105.82mm\" viewBox=\"0 0 158.73 105.82\"\n",
       "     stroke=\"none\"\n",
       "     fill=\"#000000\"\n",
       "     stroke-width=\"0.3\"\n",
       "     font-size=\"3.88\"\n",
       ">\n",
       "<g stroke=\"#000000\" stroke-opacity=\"0.000\" fill=\"#FFFFFF\" id=\"img-40dbe995-1\">\n",
       "  <rect x=\"0\" y=\"0\" width=\"158.73\" height=\"105.82\"/>\n",
       "</g>\n",
       "<g class=\"plotroot xscalable yscalable\" id=\"img-40dbe995-2\">\n",
       "  <g font-size=\"3.88\" font-family=\"Helvetica\" fill=\"#000000\" stroke=\"#000000\" stroke-opacity=\"0.000\" id=\"img-40dbe995-3\">\n",
       "    <text x=\"83.52\" y=\"98.2\" text-anchor=\"middle\" dy=\"0.6em\">nobs</text>\n",
       "  </g>\n",
       "  <g class=\"guide xlabels\" font-size=\"2.82\" font-family=\"Helvetica\" fill=\"#000000\" id=\"img-40dbe995-4\">\n",
       "    <text x=\"18.11\" y=\"91.57\" text-anchor=\"middle\" dy=\"0.6em\">0</text>\n",
       "    <text x=\"83.52\" y=\"91.57\" text-anchor=\"middle\" dy=\"0.6em\">500</text>\n",
       "    <text x=\"148.93\" y=\"91.57\" text-anchor=\"middle\" dy=\"0.6em\">1000</text>\n",
       "  </g>\n",
       "  <g class=\"guide colorkey\" id=\"img-40dbe995-5\">\n",
       "    <g fill=\"#000000\" font-size=\"2.82\" font-family=\"Helvetica\" id=\"img-40dbe995-6\">\n",
       "      <text x=\"154.75\" y=\"43.97\" dy=\"0.35em\">y1</text>\n",
       "      <text x=\"154.75\" y=\"47.6\" dy=\"0.35em\">y2</text>\n",
       "      <text x=\"154.75\" y=\"51.23\" dy=\"0.35em\">y3</text>\n",
       "    </g>\n",
       "    <g stroke=\"#000000\" stroke-opacity=\"0.000\" id=\"img-40dbe995-7\">\n",
       "      <rect x=\"151.93\" y=\"43.06\" width=\"1.82\" height=\"1.82\" fill=\"#009AFA\"/>\n",
       "      <rect x=\"151.93\" y=\"46.69\" width=\"1.82\" height=\"1.82\" fill=\"#E36F47\"/>\n",
       "      <rect x=\"151.93\" y=\"50.32\" width=\"1.82\" height=\"1.82\" fill=\"#00A86C\"/>\n",
       "    </g>\n",
       "    <g fill=\"#000000\" font-size=\"3.88\" font-family=\"Helvetica\" stroke=\"#000000\" stroke-opacity=\"0.000\" id=\"img-40dbe995-8\">\n",
       "      <text x=\"151.93\" y=\"40.14\"></text>\n",
       "    </g>\n",
       "  </g>\n",
       "<g clip-path=\"url(#img-40dbe995-9)\">\n",
       "  <g id=\"img-40dbe995-10\">\n",
       "    <g pointer-events=\"visible\" opacity=\"1\" fill=\"#000000\" fill-opacity=\"0.000\" stroke=\"#000000\" stroke-opacity=\"0.000\" class=\"guide background\" id=\"img-40dbe995-11\">\n",
       "      <rect x=\"16.11\" y=\"1\" width=\"134.83\" height=\"89.57\"/>\n",
       "    </g>\n",
       "    <g class=\"guide ygridlines xfixed\" stroke-dasharray=\"0.5,0.5\" stroke-width=\"0.2\" stroke=\"#D0D0E0\" id=\"img-40dbe995-12\">\n",
       "      <path fill=\"none\" d=\"M16.11,88.57 L 150.93 88.57\"/>\n",
       "      <path fill=\"none\" d=\"M16.11,60.04 L 150.93 60.04\"/>\n",
       "      <path fill=\"none\" d=\"M16.11,31.52 L 150.93 31.52\"/>\n",
       "      <path fill=\"none\" d=\"M16.11,3 L 150.93 3\"/>\n",
       "    </g>\n",
       "    <g class=\"guide xgridlines yfixed\" stroke-dasharray=\"0.5,0.5\" stroke-width=\"0.2\" stroke=\"#D0D0E0\" id=\"img-40dbe995-13\">\n",
       "      <path fill=\"none\" d=\"M18.11,1 L 18.11 90.57\"/>\n",
       "      <path fill=\"none\" d=\"M83.52,1 L 83.52 90.57\"/>\n",
       "      <path fill=\"none\" d=\"M148.93,1 L 148.93 90.57\"/>\n",
       "    </g>\n",
       "    <g class=\"plotpanel\" id=\"img-40dbe995-14\">\n",
       "      <g stroke-width=\"0.26\" fill=\"#000000\" fill-opacity=\"0.000\" class=\"geometry\" stroke-dasharray=\"none\" stroke=\"#009AFA\" id=\"img-40dbe995-15\">\n",
       "        <path fill=\"none\" d=\"M18.11,-31.28 L 19.42 -1499.71 20.72 -1777.26 22.03 -1388.67 23.34 -779.7 24.65 -507.11 25.96 -257.43 27.27 -100.28 28.57 -6.72 29.88 27.52 31.19 44.88 32.5 65.73 33.81 62.12 35.11 72.15 36.42 81.45 37.73 82.27 39.04 73.66 40.35 67.17 41.66 65.56 42.96 72.48 44.27 74.43 45.58 77.97 46.89 77.25 48.2 74.27 49.51 70.75 50.81 77.51 52.12 79.8 53.43 79.78 54.74 81.31 56.05 79.39 57.36 81.4 58.66 81.25 59.97 79.17 61.28 79.06 62.59 77.42 63.9 78.23 65.2 81.35 66.51 77.96 67.82 80.69 69.13 79.04 70.44 80.22 71.75 80.48 73.05 79.16 74.36 80.4 75.67 81.1 76.98 82.85 78.29 82.66 79.6 83.22 80.9 82.26 82.21 83.15 83.52 81.44 84.83 78.94 86.14 81 87.45 84.14 88.75 82.7 90.06 82.12 91.37 79.86 92.68 79.09 93.99 79.28 95.29 81.68 96.6 81.51 97.91 78.21 99.22 77.81 100.53 79.54 101.84 81.78 103.14 79.11 104.45 82.18 105.76 81.29 107.07 82.75 108.38 78.82 109.69 76.62 110.99 78.58 112.3 77.53 113.61 80.84 114.92 80.58 116.23 82.07 117.54 78.42 118.84 81.08 120.15 82.31 121.46 83.02 122.77 82.18 124.08 81.4 125.38 82.15 126.69 80.92 128 81.49 129.31 78.33 130.62 76.85 131.93 75.85 133.23 78.89 134.54 80.4 135.85 80.68 137.16 80.92 138.47 81.97 139.78 83.04 141.08 82.21 142.39 81.41 143.7 81.14 145.01 80.68 146.32 81.51 147.63 80.29 148.93 82.69\"/>\n",
       "      </g>\n",
       "      <g stroke-width=\"0.26\" fill=\"#000000\" fill-opacity=\"0.000\" class=\"geometry\" stroke-dasharray=\"none\" stroke=\"#E36F47\" id=\"img-40dbe995-16\">\n",
       "        <path fill=\"none\" d=\"M18.11,-31.28 L 19.42 -92.96 20.72 -4.45 22.03 44.02 23.34 40.11 24.65 37.75 25.96 70.34 27.27 64.16 28.57 69.15 29.88 69.87 31.19 59 32.5 64.2 33.81 66.93 35.11 59.43 36.42 74.99 37.73 75.52 39.04 70.99 40.35 73.83 41.66 75.82 42.96 75.2 44.27 75.99 45.58 75.17 46.89 74.05 48.2 75.17 49.51 73.25 50.81 81.21 52.12 82.78 53.43 81.96 54.74 75.94 56.05 72.35 57.36 75.02 58.66 75.94 59.97 78.7 61.28 78.92 62.59 81.95 63.9 80.28 65.2 81.9 66.51 79.04 67.82 79.97 69.13 80.07 70.44 79.81 71.75 77.54 73.05 76.17 74.36 76.57 75.67 74.97 76.98 76.73 78.29 78.52 79.6 78.34 80.9 75.82 82.21 78.78 83.52 79.04 84.83 76.54 86.14 79.2 87.45 81.93 88.75 81.21 90.06 79.22 91.37 78.6 92.68 76 93.99 75.66 95.29 78.68 96.6 77.23 97.91 75.45 99.22 76.08 100.53 78.88 101.84 81.47 103.14 79.6 104.45 81.98 105.76 83.09 107.07 83.34 108.38 82.29 109.69 81.41 110.99 80.84 112.3 79.34 113.61 81.25 114.92 80.68 116.23 82.99 117.54 80.46 118.84 80.31 120.15 80.22 121.46 80.95 122.77 80.68 124.08 79.36 125.38 80.25 126.69 79.59 128 81.75 129.31 76.93 130.62 74.72 131.93 74.94 133.23 77.39 134.54 78.6 135.85 79.61 137.16 79.25 138.47 80.57 139.78 81.46 141.08 81.42 142.39 80.91 143.7 79.92 145.01 79.4 146.32 77.59 147.63 75.35 148.93 78.85\"/>\n",
       "      </g>\n",
       "      <g stroke-width=\"0.26\" fill=\"#000000\" fill-opacity=\"0.000\" class=\"geometry\" stroke-dasharray=\"none\" stroke=\"#00A86C\" id=\"img-40dbe995-17\">\n",
       "        <path fill=\"none\" d=\"M18.11,-31.28 L 19.42 -142.96 20.72 -70.55 22.03 -41.27 23.34 -0.34 24.65 29.11 25.96 25.15 27.27 55.09 28.57 70.07 29.88 67.97 31.19 69.83 32.5 71.94 33.81 63.53 35.11 70.21 36.42 81.79 37.73 82.01 39.04 73.41 40.35 68.05 41.66 69.52 42.96 75.54 44.27 76.59 45.58 79.47 46.89 77.72 48.2 76.21 49.51 72.59 50.81 78.91 52.12 80.75 53.43 80.09 54.74 81.4 56.05 79.48 57.36 81.8 58.66 81.71 59.97 79.81 61.28 80.15 62.59 78.26 63.9 78.87 65.2 81.74 66.51 78.11 67.82 80.75 69.13 80.72 70.44 80.74 71.75 80.69 73.05 79.3 74.36 80.07 75.67 81.11 76.98 82.97 78.29 82.63 79.6 83.01 80.9 82.01 82.21 83.19 83.52 81.29 84.83 78.69 86.14 80.87 87.45 84.18 88.75 82.62 90.06 82.53 91.37 80.41 92.68 79.47 93.99 79.59 95.29 81.95 96.6 81.74 97.91 78.3 99.22 77.97 100.53 79.81 101.84 82.18 103.14 79.44 104.45 82.1 105.76 81.21 107.07 82.7 108.38 78.98 109.69 76.95 110.99 78.74 112.3 77.72 113.61 81 114.92 80.7 116.23 82.14 117.54 78.49 118.84 81.15 120.15 82.3 121.46 83.04 122.77 82.18 124.08 81.45 125.38 82.16 126.69 80.92 128 81.5 129.31 78.44 130.62 76.79 131.93 75.78 133.23 78.82 134.54 80.56 135.85 81.33 137.16 81.47 138.47 82.58 139.78 83.42 141.08 82.71 142.39 81.7 143.7 81.8 145.01 81.24 146.32 82.51 147.63 81.3 148.93 83.09\"/>\n",
       "      </g>\n",
       "    </g>\n",
       "  </g>\n",
       "</g>\n",
       "  <g class=\"guide ylabels\" font-size=\"2.82\" font-family=\"Helvetica\" fill=\"#000000\" id=\"img-40dbe995-18\">\n",
       "    <text x=\"15.11\" y=\"88.57\" text-anchor=\"end\" dy=\"0.35em\">0.75</text>\n",
       "    <text x=\"15.11\" y=\"60.04\" text-anchor=\"end\" dy=\"0.35em\">1.00</text>\n",
       "    <text x=\"15.11\" y=\"31.52\" text-anchor=\"end\" dy=\"0.35em\">1.25</text>\n",
       "    <text x=\"15.11\" y=\"3\" text-anchor=\"end\" dy=\"0.35em\">1.50</text>\n",
       "  </g>\n",
       "  <g font-size=\"3.88\" font-family=\"Helvetica\" fill=\"#000000\" stroke=\"#000000\" stroke-opacity=\"0.000\" id=\"img-40dbe995-19\">\n",
       "    <text x=\"4.81\" y=\"43.78\" text-anchor=\"middle\" dy=\"0.35em\" transform=\"rotate(-90, 4.81, 45.78)\">value of function (anonymous function)</text>\n",
       "  </g>\n",
       "</g>\n",
       "<defs>\n",
       "  <clipPath id=\"img-40dbe995-9\">\n",
       "  <path d=\"M16.11,1 L 150.93 1 150.93 90.57 16.11 90.57\" />\n",
       "</clipPath>\n",
       "</defs>\n",
       "</svg>\n"
      ],
      "text/html": [
       "<?xml version=\"1.0\" encoding=\"UTF-8\"?>\n",
       "<svg xmlns=\"http://www.w3.org/2000/svg\"\n",
       "     xmlns:xlink=\"http://www.w3.org/1999/xlink\"\n",
       "     xmlns:gadfly=\"http://www.gadflyjl.org/ns\"\n",
       "     version=\"1.2\"\n",
       "     width=\"158.73mm\" height=\"105.82mm\" viewBox=\"0 0 158.73 105.82\"\n",
       "     stroke=\"none\"\n",
       "     fill=\"#000000\"\n",
       "     stroke-width=\"0.3\"\n",
       "     font-size=\"3.88\"\n",
       ">\n",
       "<g stroke=\"#000000\" stroke-opacity=\"0.000\" fill=\"#FFFFFF\" id=\"img-40dbe995-1\">\n",
       "  <rect x=\"0\" y=\"0\" width=\"158.73\" height=\"105.82\"/>\n",
       "</g>\n",
       "<g class=\"plotroot xscalable yscalable\" id=\"img-40dbe995-2\">\n",
       "  <g font-size=\"3.88\" font-family=\"Helvetica\" fill=\"#000000\" stroke=\"#000000\" stroke-opacity=\"0.000\" id=\"img-40dbe995-3\">\n",
       "    <text x=\"83.52\" y=\"98.2\" text-anchor=\"middle\" dy=\"0.6em\">nobs</text>\n",
       "  </g>\n",
       "  <g class=\"guide xlabels\" font-size=\"2.82\" font-family=\"Helvetica\" fill=\"#000000\" id=\"img-40dbe995-4\">\n",
       "    <text x=\"18.11\" y=\"91.57\" text-anchor=\"middle\" dy=\"0.6em\">0</text>\n",
       "    <text x=\"83.52\" y=\"91.57\" text-anchor=\"middle\" dy=\"0.6em\">500</text>\n",
       "    <text x=\"148.93\" y=\"91.57\" text-anchor=\"middle\" dy=\"0.6em\">1000</text>\n",
       "  </g>\n",
       "  <g class=\"guide colorkey\" id=\"img-40dbe995-5\">\n",
       "    <g fill=\"#000000\" font-size=\"2.82\" font-family=\"Helvetica\" id=\"img-40dbe995-6\">\n",
       "      <text x=\"154.75\" y=\"43.97\" dy=\"0.35em\">y1</text>\n",
       "      <text x=\"154.75\" y=\"47.6\" dy=\"0.35em\">y2</text>\n",
       "      <text x=\"154.75\" y=\"51.23\" dy=\"0.35em\">y3</text>\n",
       "    </g>\n",
       "    <g stroke=\"#000000\" stroke-opacity=\"0.000\" id=\"img-40dbe995-7\">\n",
       "      <rect x=\"151.93\" y=\"43.06\" width=\"1.82\" height=\"1.82\" fill=\"#009AFA\"/>\n",
       "      <rect x=\"151.93\" y=\"46.69\" width=\"1.82\" height=\"1.82\" fill=\"#E36F47\"/>\n",
       "      <rect x=\"151.93\" y=\"50.32\" width=\"1.82\" height=\"1.82\" fill=\"#00A86C\"/>\n",
       "    </g>\n",
       "    <g fill=\"#000000\" font-size=\"3.88\" font-family=\"Helvetica\" stroke=\"#000000\" stroke-opacity=\"0.000\" id=\"img-40dbe995-8\">\n",
       "      <text x=\"151.93\" y=\"40.14\"></text>\n",
       "    </g>\n",
       "  </g>\n",
       "<g clip-path=\"url(#img-40dbe995-9)\">\n",
       "  <g id=\"img-40dbe995-10\">\n",
       "    <g pointer-events=\"visible\" opacity=\"1\" fill=\"#000000\" fill-opacity=\"0.000\" stroke=\"#000000\" stroke-opacity=\"0.000\" class=\"guide background\" id=\"img-40dbe995-11\">\n",
       "      <rect x=\"16.11\" y=\"1\" width=\"134.83\" height=\"89.57\"/>\n",
       "    </g>\n",
       "    <g class=\"guide ygridlines xfixed\" stroke-dasharray=\"0.5,0.5\" stroke-width=\"0.2\" stroke=\"#D0D0E0\" id=\"img-40dbe995-12\">\n",
       "      <path fill=\"none\" d=\"M16.11,88.57 L 150.93 88.57\"/>\n",
       "      <path fill=\"none\" d=\"M16.11,60.04 L 150.93 60.04\"/>\n",
       "      <path fill=\"none\" d=\"M16.11,31.52 L 150.93 31.52\"/>\n",
       "      <path fill=\"none\" d=\"M16.11,3 L 150.93 3\"/>\n",
       "    </g>\n",
       "    <g class=\"guide xgridlines yfixed\" stroke-dasharray=\"0.5,0.5\" stroke-width=\"0.2\" stroke=\"#D0D0E0\" id=\"img-40dbe995-13\">\n",
       "      <path fill=\"none\" d=\"M18.11,1 L 18.11 90.57\"/>\n",
       "      <path fill=\"none\" d=\"M83.52,1 L 83.52 90.57\"/>\n",
       "      <path fill=\"none\" d=\"M148.93,1 L 148.93 90.57\"/>\n",
       "    </g>\n",
       "    <g class=\"plotpanel\" id=\"img-40dbe995-14\">\n",
       "      <g stroke-width=\"0.26\" fill=\"#000000\" fill-opacity=\"0.000\" class=\"geometry\" stroke-dasharray=\"none\" stroke=\"#009AFA\" id=\"img-40dbe995-15\">\n",
       "        <path fill=\"none\" d=\"M18.11,-31.28 L 19.42 -1499.71 20.72 -1777.26 22.03 -1388.67 23.34 -779.7 24.65 -507.11 25.96 -257.43 27.27 -100.28 28.57 -6.72 29.88 27.52 31.19 44.88 32.5 65.73 33.81 62.12 35.11 72.15 36.42 81.45 37.73 82.27 39.04 73.66 40.35 67.17 41.66 65.56 42.96 72.48 44.27 74.43 45.58 77.97 46.89 77.25 48.2 74.27 49.51 70.75 50.81 77.51 52.12 79.8 53.43 79.78 54.74 81.31 56.05 79.39 57.36 81.4 58.66 81.25 59.97 79.17 61.28 79.06 62.59 77.42 63.9 78.23 65.2 81.35 66.51 77.96 67.82 80.69 69.13 79.04 70.44 80.22 71.75 80.48 73.05 79.16 74.36 80.4 75.67 81.1 76.98 82.85 78.29 82.66 79.6 83.22 80.9 82.26 82.21 83.15 83.52 81.44 84.83 78.94 86.14 81 87.45 84.14 88.75 82.7 90.06 82.12 91.37 79.86 92.68 79.09 93.99 79.28 95.29 81.68 96.6 81.51 97.91 78.21 99.22 77.81 100.53 79.54 101.84 81.78 103.14 79.11 104.45 82.18 105.76 81.29 107.07 82.75 108.38 78.82 109.69 76.62 110.99 78.58 112.3 77.53 113.61 80.84 114.92 80.58 116.23 82.07 117.54 78.42 118.84 81.08 120.15 82.31 121.46 83.02 122.77 82.18 124.08 81.4 125.38 82.15 126.69 80.92 128 81.49 129.31 78.33 130.62 76.85 131.93 75.85 133.23 78.89 134.54 80.4 135.85 80.68 137.16 80.92 138.47 81.97 139.78 83.04 141.08 82.21 142.39 81.41 143.7 81.14 145.01 80.68 146.32 81.51 147.63 80.29 148.93 82.69\"/>\n",
       "      </g>\n",
       "      <g stroke-width=\"0.26\" fill=\"#000000\" fill-opacity=\"0.000\" class=\"geometry\" stroke-dasharray=\"none\" stroke=\"#E36F47\" id=\"img-40dbe995-16\">\n",
       "        <path fill=\"none\" d=\"M18.11,-31.28 L 19.42 -92.96 20.72 -4.45 22.03 44.02 23.34 40.11 24.65 37.75 25.96 70.34 27.27 64.16 28.57 69.15 29.88 69.87 31.19 59 32.5 64.2 33.81 66.93 35.11 59.43 36.42 74.99 37.73 75.52 39.04 70.99 40.35 73.83 41.66 75.82 42.96 75.2 44.27 75.99 45.58 75.17 46.89 74.05 48.2 75.17 49.51 73.25 50.81 81.21 52.12 82.78 53.43 81.96 54.74 75.94 56.05 72.35 57.36 75.02 58.66 75.94 59.97 78.7 61.28 78.92 62.59 81.95 63.9 80.28 65.2 81.9 66.51 79.04 67.82 79.97 69.13 80.07 70.44 79.81 71.75 77.54 73.05 76.17 74.36 76.57 75.67 74.97 76.98 76.73 78.29 78.52 79.6 78.34 80.9 75.82 82.21 78.78 83.52 79.04 84.83 76.54 86.14 79.2 87.45 81.93 88.75 81.21 90.06 79.22 91.37 78.6 92.68 76 93.99 75.66 95.29 78.68 96.6 77.23 97.91 75.45 99.22 76.08 100.53 78.88 101.84 81.47 103.14 79.6 104.45 81.98 105.76 83.09 107.07 83.34 108.38 82.29 109.69 81.41 110.99 80.84 112.3 79.34 113.61 81.25 114.92 80.68 116.23 82.99 117.54 80.46 118.84 80.31 120.15 80.22 121.46 80.95 122.77 80.68 124.08 79.36 125.38 80.25 126.69 79.59 128 81.75 129.31 76.93 130.62 74.72 131.93 74.94 133.23 77.39 134.54 78.6 135.85 79.61 137.16 79.25 138.47 80.57 139.78 81.46 141.08 81.42 142.39 80.91 143.7 79.92 145.01 79.4 146.32 77.59 147.63 75.35 148.93 78.85\"/>\n",
       "      </g>\n",
       "      <g stroke-width=\"0.26\" fill=\"#000000\" fill-opacity=\"0.000\" class=\"geometry\" stroke-dasharray=\"none\" stroke=\"#00A86C\" id=\"img-40dbe995-17\">\n",
       "        <path fill=\"none\" d=\"M18.11,-31.28 L 19.42 -142.96 20.72 -70.55 22.03 -41.27 23.34 -0.34 24.65 29.11 25.96 25.15 27.27 55.09 28.57 70.07 29.88 67.97 31.19 69.83 32.5 71.94 33.81 63.53 35.11 70.21 36.42 81.79 37.73 82.01 39.04 73.41 40.35 68.05 41.66 69.52 42.96 75.54 44.27 76.59 45.58 79.47 46.89 77.72 48.2 76.21 49.51 72.59 50.81 78.91 52.12 80.75 53.43 80.09 54.74 81.4 56.05 79.48 57.36 81.8 58.66 81.71 59.97 79.81 61.28 80.15 62.59 78.26 63.9 78.87 65.2 81.74 66.51 78.11 67.82 80.75 69.13 80.72 70.44 80.74 71.75 80.69 73.05 79.3 74.36 80.07 75.67 81.11 76.98 82.97 78.29 82.63 79.6 83.01 80.9 82.01 82.21 83.19 83.52 81.29 84.83 78.69 86.14 80.87 87.45 84.18 88.75 82.62 90.06 82.53 91.37 80.41 92.68 79.47 93.99 79.59 95.29 81.95 96.6 81.74 97.91 78.3 99.22 77.97 100.53 79.81 101.84 82.18 103.14 79.44 104.45 82.1 105.76 81.21 107.07 82.7 108.38 78.98 109.69 76.95 110.99 78.74 112.3 77.72 113.61 81 114.92 80.7 116.23 82.14 117.54 78.49 118.84 81.15 120.15 82.3 121.46 83.04 122.77 82.18 124.08 81.45 125.38 82.16 126.69 80.92 128 81.5 129.31 78.44 130.62 76.79 131.93 75.78 133.23 78.82 134.54 80.56 135.85 81.33 137.16 81.47 138.47 82.58 139.78 83.42 141.08 82.71 142.39 81.7 143.7 81.8 145.01 81.24 146.32 82.51 147.63 81.3 148.93 83.09\"/>\n",
       "      </g>\n",
       "    </g>\n",
       "  </g>\n",
       "</g>\n",
       "  <g class=\"guide ylabels\" font-size=\"2.82\" font-family=\"Helvetica\" fill=\"#000000\" id=\"img-40dbe995-18\">\n",
       "    <text x=\"15.11\" y=\"88.57\" text-anchor=\"end\" dy=\"0.35em\">0.75</text>\n",
       "    <text x=\"15.11\" y=\"60.04\" text-anchor=\"end\" dy=\"0.35em\">1.00</text>\n",
       "    <text x=\"15.11\" y=\"31.52\" text-anchor=\"end\" dy=\"0.35em\">1.25</text>\n",
       "    <text x=\"15.11\" y=\"3\" text-anchor=\"end\" dy=\"0.35em\">1.50</text>\n",
       "  </g>\n",
       "  <g font-size=\"3.88\" font-family=\"Helvetica\" fill=\"#000000\" stroke=\"#000000\" stroke-opacity=\"0.000\" id=\"img-40dbe995-19\">\n",
       "    <text x=\"4.81\" y=\"43.78\" text-anchor=\"middle\" dy=\"0.35em\" transform=\"rotate(-90, 4.81, 45.78)\">value of function (anonymous function)</text>\n",
       "  </g>\n",
       "</g>\n",
       "<defs>\n",
       "  <clipPath id=\"img-40dbe995-9\">\n",
       "  <path d=\"M16.11,1 L 150.93 1 150.93 90.57 16.11 90.57\" />\n",
       "</clipPath>\n",
       "</defs>\n",
       "</svg>\n"
      ],
      "text/plain": [
       "Compose.SVG(158.73015873015876mm,105.82010582010584mm,IOBuffer(data=UInt8[...], readable=true, writable=true, seekable=true, append=false, size=7966, maxsize=Inf, ptr=7967, mark=-1),nothing,\"img-40dbe995\",0,Compose.SVGPropertyFrame[],Dict{Type{T},Union{Compose.Property{P<:Compose.PropertyPrimitive},Void}}(Compose.Property{Compose.FillPrimitive}=>nothing),Dict{Compose.ClipPrimitive{P<:NTuple{N,Measures.Measure}},ASCIIString}(Compose.ClipPrimitive{Tuple{Measures.Length{:mm,Float64},Measures.Length{:mm,Float64}}}([(16.107500000000016mm,1.0mm),(150.9334920634921mm,1.0mm),(150.9334920634921mm,90.56593915343916mm),(16.107500000000016mm,90.56593915343916mm)])=>\"img-40dbe995-9\"),Tuple{Compose.FormPrimitive,ASCIIString}[],Set{AbstractString}(),true,false,nothing,true,\"img-40dbe995-19\",false,19,AbstractString[\"/Users/joshday/.julia/v0.4/Gadfly/src/gadfly.js\"],Tuple{AbstractString,AbstractString}[(\"Snap.svg\",\"Snap\"),(\"Gadfly\",\"Gadfly\")],AbstractString[\"fig.select(\\\"#img-40dbe995-5\\\")\\n   .drag(function() {}, function() {}, function() {});\",\"fig.select(\\\"#img-40dbe995-10\\\")\\n   .init_gadfly();\"],false,:none)"
      ]
     },
     "metadata": {},
     "output_type": "display_data"
    },
    {
     "data": {
      "image/png": "[encoded data removed]",
      "image/svg+xml": [],
      "text/plain": [
       "Plot{Plots.GadflyPackage() n=3}"
      ]
     },
     "execution_count": 13,
     "metadata": {},
     "output_type": "execute_result"
    }
   ],
   "source": [
    "plot!(tr.p, ylims = (.75, 1.5))"
   ]
  },
  {
   "cell_type": "markdown",
   "metadata": {
    "slideshow": {
     "slide_type": "slide"
    }
   },
   "source": [
    "### Cross Validation\n",
    "\n",
    "Not yet included in the reorganization of OnlineStats.  For this type, the user provides a test data set.  With each update, several tuning parameters will be tried, and the winner is chosen by which minimizes error on the test set.\n",
    "\n",
    "http://joshday.github.io/OnlineStats.jl/Models/StochasticModel/"
   ]
  },
  {
   "cell_type": "markdown",
   "metadata": {
    "slideshow": {
     "slide_type": "slide"
    }
   },
   "source": [
    "### Advice for `StatLearn`\n",
    "\n",
    "- Use when training time is the bottleneck\n",
    "- Use traceplots of the loss on a test set\n",
    "- If data is static, randomize the order of observations"
   ]
  },
  {
   "cell_type": "markdown",
   "metadata": {
    "slideshow": {
     "slide_type": "slide"
    }
   },
   "source": [
    "### Thank You\n",
    "\n",
    "- GitHub: @joshday\n",
    "- Website: http://joshday.github.io\n",
    "- Email: jtday2@ncsu.edu\n"
   ]
  }
 ],
 "metadata": {
  "celltoolbar": "Slideshow",
  "kernelspec": {
   "display_name": "Julia 0.4.1-pre",
   "language": "julia",
   "name": "julia-0.4"
  },
  "language_info": {
   "file_extension": ".jl",
   "mimetype": "application/julia",
   "name": "julia",
   "version": "0.4.3"
  }
 },
 "nbformat": 4,
 "nbformat_minor": 0
}
